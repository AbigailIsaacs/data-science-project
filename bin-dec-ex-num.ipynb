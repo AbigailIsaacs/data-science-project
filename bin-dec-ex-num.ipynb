{
 "cells": [
  {
   "cell_type": "code",
   "execution_count": 42,
   "id": "da4810d9",
   "metadata": {},
   "outputs": [
    {
     "name": "stdout",
     "output_type": "stream",
     "text": [
      "enter a number16\n",
      "10000\n",
      "20\n",
      "10"
     ]
    }
   ],
   "source": [
    "number = int(input(\"enter a number\")) \n",
    "\n",
    "def PrintBin (num):\n",
    "    if(num > 1):\n",
    "        PrintBin(num // 2)\n",
    "    print(num % 2 ,end=\"\")\n",
    "\n",
    "def PrintBace8 (num):\n",
    "    if(num > 7):\n",
    "        PrintBace8(num // 8)\n",
    "    print(num % 8 ,end=\"\")\n",
    "  \n",
    "def PrintEx (num):\n",
    "    if(num > 15):\n",
    "        PrintEx(num // 16)\n",
    "    if(num % 16 == 15):\n",
    "        print(\"f\",end=\"\")\n",
    "    elif(num % 16==14):\n",
    "        print(\"e\",end=\"\")\n",
    "    elif(num % 16==13):\n",
    "        print(\"d\",end=\"\")\n",
    "    elif(num % 16==12):\n",
    "        print(\"c\",end=\"\")\n",
    "    elif(num % 16==11):\n",
    "        print(\"b\",end=\"\")\n",
    "    elif(num % 16==10):\n",
    "        print(\"a\",end=\"\")\n",
    "    else :\n",
    "        print(num % 16,end=\"\")\n",
    "\n",
    "PrintBin(number) \n",
    "print(\"\")\n",
    "PrintBace8(number)\n",
    "print(\"\")\n",
    "PrintEx(number)"
   ]
  },
  {
   "cell_type": "code",
   "execution_count": null,
   "id": "af23c3ba",
   "metadata": {},
   "outputs": [],
   "source": []
  },
  {
   "cell_type": "code",
   "execution_count": null,
   "id": "b02f1bcf",
   "metadata": {},
   "outputs": [],
   "source": []
  }
 ],
 "metadata": {
  "kernelspec": {
   "display_name": "Python 3",
   "language": "python",
   "name": "python3"
  },
  "language_info": {
   "codemirror_mode": {
    "name": "ipython",
    "version": 3
   },
   "file_extension": ".py",
   "mimetype": "text/x-python",
   "name": "python",
   "nbconvert_exporter": "python",
   "pygments_lexer": "ipython3",
   "version": "3.8.8"
  }
 },
 "nbformat": 4,
 "nbformat_minor": 5
}
