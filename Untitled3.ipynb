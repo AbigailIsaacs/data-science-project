{
 "cells": [
  {
   "cell_type": "code",
   "execution_count": null,
   "id": "8c4ff41f",
   "metadata": {},
   "outputs": [],
   "source": [
    "import numpy as np\n",
    "import pandas as pd\n",
    "import matplotlib.pyplot as plt\n",
    "import seaborn as sns\n",
    "#Seaborn is a library for making statistical graphics in Python. It builds on top of matplotlib and integrates closely with pandas data structures.\n",
    "fh = pd.read_csv(r'C:\\Users\\abiis\\OneDrive\\שולחן העבודה\\fetal_health.csv')\n",
    "\n",
    "\n",
    "fh.head(5)\n",
    "\n"
   ]
  },
  {
   "cell_type": "code",
   "execution_count": null,
   "id": "6f79dd6a",
   "metadata": {},
   "outputs": [],
   "source": [
    "print(fh.info())"
   ]
  },
  {
   "cell_type": "code",
   "execution_count": null,
   "id": "bfe512d6",
   "metadata": {},
   "outputs": [],
   "source": [
    "fh.isnull().sum()\n",
    "#cheak null"
   ]
  },
  {
   "cell_type": "code",
   "execution_count": null,
   "id": "a9d5c779",
   "metadata": {},
   "outputs": [],
   "source": [
    "plt.figure(figsize=(25, 15))\n",
    "\n",
    "for i, column in enumerate(df.columns):\n",
    "    plt.subplot(4, 6, i + 1)\n",
    "    sns.histplot(data=df[column])\n",
    "    \n",
    "plt.tight_layout()\n",
    "plt.show()"
   ]
  },
  {
   "cell_type": "code",
   "execution_count": null,
   "id": "0fabe842",
   "metadata": {
    "scrolled": true
   },
   "outputs": [],
   "source": [
    "plt.figure(figsize=(6,5))\n",
    "ax = sns.countplot(x = fh['fetal_health'])\n",
    "#imbalanced data"
   ]
  },
  {
   "cell_type": "code",
   "execution_count": null,
   "id": "1b0767ef",
   "metadata": {},
   "outputs": [],
   "source": [
    "corr = fh.corr()\n",
    "ax, fig = plt.subplots(figsize=(15,15))\n",
    "sns.heatmap(corr, vmin=-1, cmap='coolwarm', annot=True)\n",
    "plt.show()"
   ]
  },
  {
   "cell_type": "code",
   "execution_count": 45,
   "id": "67edb287",
   "metadata": {},
   "outputs": [
    {
     "data": {
      "text/plain": [
       "baseline value                                            0.148151\n",
       "accelerations                                            -0.364066\n",
       "uterine_contractions                                     -0.204894\n",
       "severe_decelerations                                      0.131934\n",
       "prolongued_decelerations                                  0.484859\n",
       "abnormal_short_term_variability                           0.471191\n",
       "mean_value_of_short_term_variability                     -0.103382\n",
       "percentage_of_time_with_abnormal_long_term_variability    0.426146\n",
       "mean_value_of_long_term_variability                      -0.226797\n",
       "histogram_mode                                           -0.250412\n",
       "histogram_mean                                           -0.226985\n",
       "histogram_median                                         -0.205033\n",
       "histogram_variance                                        0.206630\n",
       "histogram_tendency                                       -0.131976\n",
       "fetal_health                                              1.000000\n",
       "Name: fetal_health, dtype: float64"
      ]
     },
     "execution_count": 45,
     "metadata": {},
     "output_type": "execute_result"
    }
   ],
   "source": [
    "corr[abs(corr['fetal_health']) > 0.1]['fetal_health']"
   ]
  },
  {
   "cell_type": "code",
   "execution_count": 48,
   "id": "ed8ff0c7",
   "metadata": {},
   "outputs": [],
   "source": [
    "from sklearn.model_selection import train_test_split, GridSearchCV\n",
    "from sklearn.metrics import roc_auc_score, accuracy_score\n",
    "from sklearn.utils import class_weight\n",
    "from sklearn.preprocessing import StandardScaler, MinMaxScaler, LabelEncoder"
   ]
  },
  {
   "cell_type": "code",
   "execution_count": 50,
   "id": "35584891",
   "metadata": {},
   "outputs": [],
   "source": [
    "#x= data\n",
    "#y=target(fetal_health)\n",
    "X = fh.drop(\"fetal_health\", axis=1)\n",
    "y = fh[\"fetal_health\"]\n",
    "\n",
    "X_train, X_test, y_train, y_test = train_test_split(X, y, test_size=0.3, random_state=1)"
   ]
  },
  {
   "cell_type": "code",
   "execution_count": 51,
   "id": "f5a3de90",
   "metadata": {},
   "outputs": [
    {
     "data": {
      "text/plain": [
       "((1488, 21), (638, 21))"
      ]
     },
     "execution_count": 51,
     "metadata": {},
     "output_type": "execute_result"
    }
   ],
   "source": [
    "X_train.shape, X_test.shape"
   ]
  },
  {
   "cell_type": "code",
   "execution_count": null,
   "id": "bb20f1ca",
   "metadata": {},
   "outputs": [],
   "source": [
    "scaler = StandardScaler()\n",
    "#normilastation of the tada, seperetly train and test to prevent data lykeg.\n",
    "X_train_scaled = scaler.fit_transform(X_train)\n",
    "X_test_scaled = scaler.transform(X_test)\n",
    "#The standard score of a sample x is calculated as:\n",
    "#z = (x - u) / s\n",
    "#where u is the mean of the training samples or zero if with_mean=False, and s is the standard deviation of the training samples or one if with_std=False."
   ]
  },
  {
   "cell_type": "code",
   "execution_count": null,
   "id": "546b4034",
   "metadata": {},
   "outputs": [],
   "source": [
    "from sklearn.linear_model import LogisticRegression\n",
    "from sklearn.neighbors import KNeighborsClassifier\n",
    "from sklearn.ensemble import RandomForestClassifier\n",
    "from sklearn.tree import DecisionTreeClassifier"
   ]
  },
  {
   "cell_type": "code",
   "execution_count": null,
   "id": "d21bc678",
   "metadata": {},
   "outputs": [],
   "source": [
    "from sklearn.utils import resample\n",
    "\n",
    "# Separate Target Classes\n",
    "df_1 = fh[fh.fetal_health==1]\n",
    "df_2 = fh[fh.fetal_health==2]\n",
    "df_3 = fh[fh.fetal_health==3]\n",
    " \n",
    "# Upsample minority class\n",
    "df_2_upsampled = resample(df_2, \n",
    "                                 replace=True,     # sample with replacement\n",
    "                                 n_samples=1655,    # to match majority class\n",
    "                                 random_state=123) # reproducible results\n",
    "\n",
    "df_3_upsampled = resample(df_3, \n",
    "                                 replace=True,     # sample with replacement\n",
    "                                 n_samples=1655,    # to match majority class\n",
    "                                 random_state=123) # reproducible results\n",
    "\n",
    "# Combine majority class with upsampled minority class\n",
    "df_upsampled = pd.concat([df_1, df_2_upsampled, df_3_upsampled])\n",
    " \n",
    "# Display new class counts\n",
    "df_upsampled.fetal_health.value_counts()"
   ]
  },
  {
   "cell_type": "code",
   "execution_count": null,
   "id": "5c636acf",
   "metadata": {},
   "outputs": [],
   "source": [
    "sns.lmplot(data =df,x=\"baseline value\",y=\"fetal_movement\", hue=\"fetal_health\", legend_out=False)\n",
    "plt.show()"
   ]
  },
  {
   "cell_type": "markdown",
   "id": "eb28913a",
   "metadata": {},
   "source": [
    "\n",
    "#### \"baseline value\" - קצב הלב הבסיסי של העובר\n",
    "#### \"accelerations\" -מספר התאוצות(של הלב) בשניה \n",
    "#### \"fetal_movement\" - מספר תנועות העובר בשניה\n",
    "#### \"uterine_contractions\" - מספר התכווצויות הרחם בשניה\n",
    "#### \"light_decelerations\" - האטות קלות בשניה\n",
    "####  \"severe_decelerations\" - האטות חמורות בשניה\n",
    "####  \"prolongued_decelerations\" - האטות ממושכות בשניה\n",
    "#### \"abnormal_short_term_variability\" - ז\n",
    "#### \"mean_value_of_short_term_variability\"\n",
    "#### \"percentage_of_time_with_abnormal_long_term_variability\"\n",
    "#### \"histogram_min\"\n",
    "#### \"histogram_max\"\n",
    "#### \"histogram_number_of_peaks\"\n",
    "#### \"histogram_number_of_zeroes\"\n",
    "#### \"histogram_mode\"\n",
    "#### \"histogram_mean\"\n",
    "#### \"histogram_median\"\n",
    "#### \"histogram_variance\"\n",
    "#### \"histogram_tendency\"\n",
    "\n",
    "#### \"fetal_health\" - העמודה שאותה אנו חוזים - הערך 1 מציין תינוק תקין, הערך 2 זה חשש לבריאות התינוק, הערך 3 זה בריאות התינוק במצב רע קלטני\n"
   ]
  },
  {
   "cell_type": "code",
   "execution_count": null,
   "id": "5bbb6296",
   "metadata": {},
   "outputs": [],
   "source": []
  }
 ],
 "metadata": {
  "kernelspec": {
   "display_name": "Python 3",
   "language": "python",
   "name": "python3"
  },
  "language_info": {
   "codemirror_mode": {
    "name": "ipython",
    "version": 3
   },
   "file_extension": ".py",
   "mimetype": "text/x-python",
   "name": "python",
   "nbconvert_exporter": "python",
   "pygments_lexer": "ipython3",
   "version": "3.8.8"
  }
 },
 "nbformat": 4,
 "nbformat_minor": 5
}
