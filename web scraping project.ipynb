{
 "cells": [
  {
   "cell_type": "markdown",
   "id": "d62e563c",
   "metadata": {},
   "source": [
    "### imports"
   ]
  },
  {
   "cell_type": "code",
   "execution_count": 62,
   "id": "ef8df74e",
   "metadata": {},
   "outputs": [],
   "source": [
    "from bs4 import BeautifulSoup as bs\n",
    "import pandas as pd\n",
    "import numpy as np\n",
    "import requests\n",
    "import matplotlib.pyplot as plt\n",
    "import seaborn as sns\n",
    "from sklearn.linear_model import LinearRegression\n",
    "from sklearn.model_selection import train_test_split, GridSearchCV\n",
    "\n",
    "#an attempt to translate our firt table\n",
    "import googletrans\n",
    "from googletrans import Translator\n",
    "\n",
    "from sklearn.preprocessing import StandardScaler, MinMaxScaler, LabelEncoder\n",
    "from sklearn import metrics\n"
   ]
  },
  {
   "cell_type": "markdown",
   "id": "0cd232f1",
   "metadata": {},
   "source": [
    "### scraping a table from wikipedia with the help of the command 'read_html'"
   ]
  },
  {
   "cell_type": "code",
   "execution_count": 63,
   "id": "8513ba11",
   "metadata": {},
   "outputs": [
    {
     "data": {
      "text/html": [
       "<div>\n",
       "<style scoped>\n",
       "    .dataframe tbody tr th:only-of-type {\n",
       "        vertical-align: middle;\n",
       "    }\n",
       "\n",
       "    .dataframe tbody tr th {\n",
       "        vertical-align: top;\n",
       "    }\n",
       "\n",
       "    .dataframe thead th {\n",
       "        text-align: right;\n",
       "    }\n",
       "</style>\n",
       "<table border=\"1\" class=\"dataframe\">\n",
       "  <thead>\n",
       "    <tr style=\"text-align: right;\">\n",
       "      <th></th>\n",
       "      <th>0</th>\n",
       "      <th>1</th>\n",
       "      <th>2</th>\n",
       "      <th>3</th>\n",
       "      <th>4</th>\n",
       "      <th>5</th>\n",
       "      <th>6</th>\n",
       "      <th>7</th>\n",
       "      <th>8</th>\n",
       "    </tr>\n",
       "  </thead>\n",
       "  <tbody>\n",
       "    <tr>\n",
       "      <th>0</th>\n",
       "      <td>מדינה / טריטוריה</td>\n",
       "      <td>מקרי הדבקה</td>\n",
       "      <td>למליון</td>\n",
       "      <td>במצב קשה</td>\n",
       "      <td>מקרי מוות</td>\n",
       "      <td>למליון</td>\n",
       "      <td>חוסנו[3]</td>\n",
       "      <td>מלא[3]</td>\n",
       "      <td>NaN</td>\n",
       "    </tr>\n",
       "    <tr>\n",
       "      <th>1</th>\n",
       "      <td>231 מדינות/טריטוריות + 2 ספינות</td>\n",
       "      <td>428767421</td>\n",
       "      <td>54079</td>\n",
       "      <td>80113</td>\n",
       "      <td>5928530</td>\n",
       "      <td>748</td>\n",
       "      <td>60.01%</td>\n",
       "      <td>53.18%</td>\n",
       "      <td>NaN</td>\n",
       "    </tr>\n",
       "    <tr>\n",
       "      <th>2</th>\n",
       "      <td>ארצות הברית[4] / [ערך]</td>\n",
       "      <td>80270563</td>\n",
       "      <td>240195</td>\n",
       "      <td>10400</td>\n",
       "      <td>963371</td>\n",
       "      <td>2883</td>\n",
       "      <td>79.69%</td>\n",
       "      <td>66.40%</td>\n",
       "      <td>NaN</td>\n",
       "    </tr>\n",
       "    <tr>\n",
       "      <th>3</th>\n",
       "      <td>הודו / [ערך]</td>\n",
       "      <td>42867031</td>\n",
       "      <td>30570</td>\n",
       "      <td>8944</td>\n",
       "      <td>512652</td>\n",
       "      <td>366</td>\n",
       "      <td>68.71%</td>\n",
       "      <td>55.47%</td>\n",
       "      <td>NaN</td>\n",
       "    </tr>\n",
       "    <tr>\n",
       "      <th>4</th>\n",
       "      <td>ברזיל / [ערך]</td>\n",
       "      <td>28351876</td>\n",
       "      <td>131845</td>\n",
       "      <td>8318</td>\n",
       "      <td>645534</td>\n",
       "      <td>3002</td>\n",
       "      <td>82.14%</td>\n",
       "      <td>71.51%</td>\n",
       "      <td>NaN</td>\n",
       "    </tr>\n",
       "    <tr>\n",
       "      <th>5</th>\n",
       "      <td>צרפת / [ערך]</td>\n",
       "      <td>22401406</td>\n",
       "      <td>341951</td>\n",
       "      <td>3055</td>\n",
       "      <td>137276</td>\n",
       "      <td>2095</td>\n",
       "      <td>82.30%</td>\n",
       "      <td>79.65%</td>\n",
       "      <td>NaN</td>\n",
       "    </tr>\n",
       "    <tr>\n",
       "      <th>6</th>\n",
       "      <td>הממלכה המאוחדת / [ערך]</td>\n",
       "      <td>18695449</td>\n",
       "      <td>273040</td>\n",
       "      <td>324</td>\n",
       "      <td>160815</td>\n",
       "      <td>2349</td>\n",
       "      <td>NaN</td>\n",
       "      <td>NaN</td>\n",
       "      <td>NaN</td>\n",
       "    </tr>\n",
       "    <tr>\n",
       "      <th>7</th>\n",
       "      <td>רוסיה / [ערך]</td>\n",
       "      <td>15795570</td>\n",
       "      <td>108161</td>\n",
       "      <td>2300</td>\n",
       "      <td>347816</td>\n",
       "      <td>2382</td>\n",
       "      <td>NaN</td>\n",
       "      <td>NaN</td>\n",
       "      <td>NaN</td>\n",
       "    </tr>\n",
       "    <tr>\n",
       "      <th>8</th>\n",
       "      <td>גרמניה / [ערך]</td>\n",
       "      <td>13872762</td>\n",
       "      <td>164713</td>\n",
       "      <td>2494</td>\n",
       "      <td>122369</td>\n",
       "      <td>1453</td>\n",
       "      <td>75.26%</td>\n",
       "      <td>74.24%</td>\n",
       "      <td>NaN</td>\n",
       "    </tr>\n",
       "    <tr>\n",
       "      <th>9</th>\n",
       "      <td>טורקיה / [ערך]</td>\n",
       "      <td>13675581</td>\n",
       "      <td>159336</td>\n",
       "      <td>1128</td>\n",
       "      <td>92990</td>\n",
       "      <td>1083</td>\n",
       "      <td>NaN</td>\n",
       "      <td>NaN</td>\n",
       "      <td>NaN</td>\n",
       "    </tr>\n",
       "  </tbody>\n",
       "</table>\n",
       "</div>"
      ],
      "text/plain": [
       "                                 0           1       2         3          4  \\\n",
       "0                 מדינה / טריטוריה  מקרי הדבקה  למליון  במצב קשה  מקרי מוות   \n",
       "1  231 מדינות/טריטוריות + 2 ספינות   428767421   54079     80113    5928530   \n",
       "2           ארצות הברית[4] / [ערך]    80270563  240195     10400     963371   \n",
       "3                     הודו / [ערך]    42867031   30570      8944     512652   \n",
       "4                    ברזיל / [ערך]    28351876  131845      8318     645534   \n",
       "5                     צרפת / [ערך]    22401406  341951      3055     137276   \n",
       "6           הממלכה המאוחדת / [ערך]    18695449  273040       324     160815   \n",
       "7                    רוסיה / [ערך]    15795570  108161      2300     347816   \n",
       "8                   גרמניה / [ערך]    13872762  164713      2494     122369   \n",
       "9                   טורקיה / [ערך]    13675581  159336      1128      92990   \n",
       "\n",
       "        5         6       7    8  \n",
       "0  למליון  חוסנו[3]  מלא[3]  NaN  \n",
       "1     748    60.01%  53.18%  NaN  \n",
       "2    2883    79.69%  66.40%  NaN  \n",
       "3     366    68.71%  55.47%  NaN  \n",
       "4    3002    82.14%  71.51%  NaN  \n",
       "5    2095    82.30%  79.65%  NaN  \n",
       "6    2349       NaN     NaN  NaN  \n",
       "7    2382       NaN     NaN  NaN  \n",
       "8    1453    75.26%  74.24%  NaN  \n",
       "9    1083       NaN     NaN  NaN  "
      ]
     },
     "execution_count": 63,
     "metadata": {},
     "output_type": "execute_result"
    }
   ],
   "source": [
    "url = \"https://he.wikipedia.org/wiki/%D7%AA%D7%91%D7%A0%D7%99%D7%AA:%D7%A8%D7%99%D7%9B%D7%95%D7%96_%D7%98%D7%91%D7%9C%D7%90%D7%95%D7%AA_%D7%9E%D7%92%D7%A4%D7%AA_%D7%94%D7%A7%D7%95%D7%A8%D7%95%D7%A0%D7%94\"\n",
    "df=pd.read_html(url, skiprows=3)\n",
    "df = df[0]\n",
    "df.head(10)"
   ]
  },
  {
   "cell_type": "code",
   "execution_count": null,
   "id": "700bd717",
   "metadata": {},
   "outputs": [],
   "source": []
  },
  {
   "cell_type": "markdown",
   "id": "c414ec92",
   "metadata": {},
   "source": [
    "### checking for null valuse"
   ]
  },
  {
   "cell_type": "code",
   "execution_count": 64,
   "id": "3073f57b",
   "metadata": {},
   "outputs": [
    {
     "data": {
      "text/plain": [
       "0      2\n",
       "1      6\n",
       "2     15\n",
       "3      6\n",
       "4    160\n",
       "5    309\n",
       "6    401\n",
       "7    462\n",
       "8    660\n",
       "dtype: int64"
      ]
     },
     "execution_count": 64,
     "metadata": {},
     "output_type": "execute_result"
    }
   ],
   "source": [
    "df.isnull().sum()\n"
   ]
  },
  {
   "cell_type": "markdown",
   "id": "b69734d5",
   "metadata": {},
   "source": [
    "### droping the 8th column (all null)"
   ]
  },
  {
   "cell_type": "code",
   "execution_count": 65,
   "id": "cd5537dd",
   "metadata": {},
   "outputs": [],
   "source": [
    "del df[8]\n"
   ]
  },
  {
   "cell_type": "markdown",
   "id": "aaa3c7ef",
   "metadata": {},
   "source": [
    "### changing the first row to be the title "
   ]
  },
  {
   "cell_type": "code",
   "execution_count": 66,
   "id": "defec682",
   "metadata": {},
   "outputs": [
    {
     "data": {
      "text/html": [
       "<div>\n",
       "<style scoped>\n",
       "    .dataframe tbody tr th:only-of-type {\n",
       "        vertical-align: middle;\n",
       "    }\n",
       "\n",
       "    .dataframe tbody tr th {\n",
       "        vertical-align: top;\n",
       "    }\n",
       "\n",
       "    .dataframe thead th {\n",
       "        text-align: right;\n",
       "    }\n",
       "</style>\n",
       "<table border=\"1\" class=\"dataframe\">\n",
       "  <thead>\n",
       "    <tr style=\"text-align: right;\">\n",
       "      <th></th>\n",
       "      <th>מדינה / טריטוריה</th>\n",
       "      <th>מקרי הדבקה</th>\n",
       "      <th>למליון</th>\n",
       "      <th>במצב קשה</th>\n",
       "      <th>מקרי מוות</th>\n",
       "      <th>למליון</th>\n",
       "      <th>חוסנו[3]</th>\n",
       "      <th>מלא[3]</th>\n",
       "    </tr>\n",
       "  </thead>\n",
       "  <tbody>\n",
       "    <tr>\n",
       "      <th>0</th>\n",
       "      <td>231 מדינות/טריטוריות + 2 ספינות</td>\n",
       "      <td>428767421</td>\n",
       "      <td>54079</td>\n",
       "      <td>80113</td>\n",
       "      <td>5928530</td>\n",
       "      <td>748</td>\n",
       "      <td>60.01%</td>\n",
       "      <td>53.18%</td>\n",
       "    </tr>\n",
       "    <tr>\n",
       "      <th>1</th>\n",
       "      <td>ארצות הברית[4] / [ערך]</td>\n",
       "      <td>80270563</td>\n",
       "      <td>240195</td>\n",
       "      <td>10400</td>\n",
       "      <td>963371</td>\n",
       "      <td>2883</td>\n",
       "      <td>79.69%</td>\n",
       "      <td>66.40%</td>\n",
       "    </tr>\n",
       "    <tr>\n",
       "      <th>2</th>\n",
       "      <td>הודו / [ערך]</td>\n",
       "      <td>42867031</td>\n",
       "      <td>30570</td>\n",
       "      <td>8944</td>\n",
       "      <td>512652</td>\n",
       "      <td>366</td>\n",
       "      <td>68.71%</td>\n",
       "      <td>55.47%</td>\n",
       "    </tr>\n",
       "    <tr>\n",
       "      <th>3</th>\n",
       "      <td>ברזיל / [ערך]</td>\n",
       "      <td>28351876</td>\n",
       "      <td>131845</td>\n",
       "      <td>8318</td>\n",
       "      <td>645534</td>\n",
       "      <td>3002</td>\n",
       "      <td>82.14%</td>\n",
       "      <td>71.51%</td>\n",
       "    </tr>\n",
       "    <tr>\n",
       "      <th>4</th>\n",
       "      <td>צרפת / [ערך]</td>\n",
       "      <td>22401406</td>\n",
       "      <td>341951</td>\n",
       "      <td>3055</td>\n",
       "      <td>137276</td>\n",
       "      <td>2095</td>\n",
       "      <td>82.30%</td>\n",
       "      <td>79.65%</td>\n",
       "    </tr>\n",
       "  </tbody>\n",
       "</table>\n",
       "</div>"
      ],
      "text/plain": [
       "0                 מדינה / טריטוריה מקרי הדבקה  למליון במצב קשה מקרי מוות  \\\n",
       "0  231 מדינות/טריטוריות + 2 ספינות  428767421   54079    80113   5928530   \n",
       "1           ארצות הברית[4] / [ערך]   80270563  240195    10400    963371   \n",
       "2                     הודו / [ערך]   42867031   30570     8944    512652   \n",
       "3                    ברזיל / [ערך]   28351876  131845     8318    645534   \n",
       "4                     צרפת / [ערך]   22401406  341951     3055    137276   \n",
       "\n",
       "0 למליון חוסנו[3]  מלא[3]  \n",
       "0    748   60.01%  53.18%  \n",
       "1   2883   79.69%  66.40%  \n",
       "2    366   68.71%  55.47%  \n",
       "3   3002   82.14%  71.51%  \n",
       "4   2095   82.30%  79.65%  "
      ]
     },
     "execution_count": 66,
     "metadata": {},
     "output_type": "execute_result"
    }
   ],
   "source": [
    "df.columns = df. iloc[0]\n",
    "df = df. drop(0)\n",
    "df = df. reset_index(drop=True)\n",
    "df.head()"
   ]
  },
  {
   "cell_type": "markdown",
   "id": "6eca73ee",
   "metadata": {},
   "source": [
    "### droping the first row that is Irrelevant"
   ]
  },
  {
   "cell_type": "code",
   "execution_count": 67,
   "id": "cc5cad8b",
   "metadata": {},
   "outputs": [
    {
     "data": {
      "text/html": [
       "<div>\n",
       "<style scoped>\n",
       "    .dataframe tbody tr th:only-of-type {\n",
       "        vertical-align: middle;\n",
       "    }\n",
       "\n",
       "    .dataframe tbody tr th {\n",
       "        vertical-align: top;\n",
       "    }\n",
       "\n",
       "    .dataframe thead th {\n",
       "        text-align: right;\n",
       "    }\n",
       "</style>\n",
       "<table border=\"1\" class=\"dataframe\">\n",
       "  <thead>\n",
       "    <tr style=\"text-align: right;\">\n",
       "      <th></th>\n",
       "      <th>מדינה / טריטוריה</th>\n",
       "      <th>מקרי הדבקה</th>\n",
       "      <th>למליון</th>\n",
       "      <th>במצב קשה</th>\n",
       "      <th>מקרי מוות</th>\n",
       "      <th>למליון</th>\n",
       "      <th>חוסנו[3]</th>\n",
       "      <th>מלא[3]</th>\n",
       "    </tr>\n",
       "  </thead>\n",
       "  <tbody>\n",
       "    <tr>\n",
       "      <th>1</th>\n",
       "      <td>ארצות הברית[4] / [ערך]</td>\n",
       "      <td>80270563</td>\n",
       "      <td>240195</td>\n",
       "      <td>10400</td>\n",
       "      <td>963371</td>\n",
       "      <td>2883</td>\n",
       "      <td>79.69%</td>\n",
       "      <td>66.40%</td>\n",
       "    </tr>\n",
       "    <tr>\n",
       "      <th>2</th>\n",
       "      <td>הודו / [ערך]</td>\n",
       "      <td>42867031</td>\n",
       "      <td>30570</td>\n",
       "      <td>8944</td>\n",
       "      <td>512652</td>\n",
       "      <td>366</td>\n",
       "      <td>68.71%</td>\n",
       "      <td>55.47%</td>\n",
       "    </tr>\n",
       "    <tr>\n",
       "      <th>3</th>\n",
       "      <td>ברזיל / [ערך]</td>\n",
       "      <td>28351876</td>\n",
       "      <td>131845</td>\n",
       "      <td>8318</td>\n",
       "      <td>645534</td>\n",
       "      <td>3002</td>\n",
       "      <td>82.14%</td>\n",
       "      <td>71.51%</td>\n",
       "    </tr>\n",
       "    <tr>\n",
       "      <th>4</th>\n",
       "      <td>צרפת / [ערך]</td>\n",
       "      <td>22401406</td>\n",
       "      <td>341951</td>\n",
       "      <td>3055</td>\n",
       "      <td>137276</td>\n",
       "      <td>2095</td>\n",
       "      <td>82.30%</td>\n",
       "      <td>79.65%</td>\n",
       "    </tr>\n",
       "    <tr>\n",
       "      <th>5</th>\n",
       "      <td>הממלכה המאוחדת / [ערך]</td>\n",
       "      <td>18695449</td>\n",
       "      <td>273040</td>\n",
       "      <td>324</td>\n",
       "      <td>160815</td>\n",
       "      <td>2349</td>\n",
       "      <td>NaN</td>\n",
       "      <td>NaN</td>\n",
       "    </tr>\n",
       "  </tbody>\n",
       "</table>\n",
       "</div>"
      ],
      "text/plain": [
       "0        מדינה / טריטוריה מקרי הדבקה  למליון במצב קשה מקרי מוות למליון  \\\n",
       "1  ארצות הברית[4] / [ערך]   80270563  240195    10400    963371   2883   \n",
       "2            הודו / [ערך]   42867031   30570     8944    512652    366   \n",
       "3           ברזיל / [ערך]   28351876  131845     8318    645534   3002   \n",
       "4            צרפת / [ערך]   22401406  341951     3055    137276   2095   \n",
       "5  הממלכה המאוחדת / [ערך]   18695449  273040      324    160815   2349   \n",
       "\n",
       "0 חוסנו[3]  מלא[3]  \n",
       "1   79.69%  66.40%  \n",
       "2   68.71%  55.47%  \n",
       "3   82.14%  71.51%  \n",
       "4   82.30%  79.65%  \n",
       "5      NaN     NaN  "
      ]
     },
     "execution_count": 67,
     "metadata": {},
     "output_type": "execute_result"
    }
   ],
   "source": [
    "df = df. drop(0)\n",
    "df.head()"
   ]
  },
  {
   "cell_type": "code",
   "execution_count": 68,
   "id": "86d8cd36",
   "metadata": {
    "scrolled": true
   },
   "outputs": [
    {
     "data": {
      "text/html": [
       "<div>\n",
       "<style scoped>\n",
       "    .dataframe tbody tr th:only-of-type {\n",
       "        vertical-align: middle;\n",
       "    }\n",
       "\n",
       "    .dataframe tbody tr th {\n",
       "        vertical-align: top;\n",
       "    }\n",
       "\n",
       "    .dataframe thead th {\n",
       "        text-align: right;\n",
       "    }\n",
       "</style>\n",
       "<table border=\"1\" class=\"dataframe\">\n",
       "  <thead>\n",
       "    <tr style=\"text-align: right;\">\n",
       "      <th></th>\n",
       "      <th>מדינה / טריטוריה</th>\n",
       "      <th>מקרי הדבקה</th>\n",
       "      <th>למליון</th>\n",
       "      <th>במצב קשה</th>\n",
       "      <th>מקרי מוות</th>\n",
       "      <th>למליון</th>\n",
       "      <th>חוסנו[3]</th>\n",
       "      <th>מלא[3]</th>\n",
       "    </tr>\n",
       "  </thead>\n",
       "  <tbody>\n",
       "    <tr>\n",
       "      <th>655</th>\n",
       "      <td>קלקיליה</td>\n",
       "      <td>13971</td>\n",
       "      <td>203</td>\n",
       "      <td>13433</td>\n",
       "      <td>NaN</td>\n",
       "      <td>NaN</td>\n",
       "      <td>NaN</td>\n",
       "      <td>NaN</td>\n",
       "    </tr>\n",
       "    <tr>\n",
       "      <th>656</th>\n",
       "      <td>סלפית</td>\n",
       "      <td>11860</td>\n",
       "      <td>109</td>\n",
       "      <td>11683</td>\n",
       "      <td>NaN</td>\n",
       "      <td>NaN</td>\n",
       "      <td>NaN</td>\n",
       "      <td>NaN</td>\n",
       "    </tr>\n",
       "    <tr>\n",
       "      <th>657</th>\n",
       "      <td>טובאס</td>\n",
       "      <td>8565</td>\n",
       "      <td>90</td>\n",
       "      <td>8286</td>\n",
       "      <td>NaN</td>\n",
       "      <td>NaN</td>\n",
       "      <td>NaN</td>\n",
       "      <td>NaN</td>\n",
       "    </tr>\n",
       "    <tr>\n",
       "      <th>658</th>\n",
       "      <td>יריחו</td>\n",
       "      <td>8072</td>\n",
       "      <td>64</td>\n",
       "      <td>7874</td>\n",
       "      <td>NaN</td>\n",
       "      <td>NaN</td>\n",
       "      <td>NaN</td>\n",
       "      <td>NaN</td>\n",
       "    </tr>\n",
       "    <tr>\n",
       "      <th>659</th>\n",
       "      <td>NaN</td>\n",
       "      <td>NaN</td>\n",
       "      <td>NaN</td>\n",
       "      <td>NaN</td>\n",
       "      <td>NaN</td>\n",
       "      <td>NaN</td>\n",
       "      <td>NaN</td>\n",
       "      <td>NaN</td>\n",
       "    </tr>\n",
       "  </tbody>\n",
       "</table>\n",
       "</div>"
      ],
      "text/plain": [
       "0   מדינה / טריטוריה מקרי הדבקה למליון במצב קשה מקרי מוות למליון חוסנו[3]  \\\n",
       "655          קלקיליה      13971    203    13433       NaN    NaN      NaN   \n",
       "656            סלפית      11860    109    11683       NaN    NaN      NaN   \n",
       "657            טובאס       8565     90     8286       NaN    NaN      NaN   \n",
       "658            יריחו       8072     64     7874       NaN    NaN      NaN   \n",
       "659              NaN        NaN    NaN      NaN       NaN    NaN      NaN   \n",
       "\n",
       "0   מלא[3]  \n",
       "655    NaN  \n",
       "656    NaN  \n",
       "657    NaN  \n",
       "658    NaN  \n",
       "659    NaN  "
      ]
     },
     "execution_count": 68,
     "metadata": {},
     "output_type": "execute_result"
    }
   ],
   "source": [
    "\n",
    "df.tail()"
   ]
  },
  {
   "cell_type": "markdown",
   "id": "c3e31488",
   "metadata": {},
   "source": [
    "### we want only the first 226 rows (only countries) "
   ]
  },
  {
   "cell_type": "code",
   "execution_count": 69,
   "id": "e01c916d",
   "metadata": {},
   "outputs": [],
   "source": [
    "for i in range (227,660):\n",
    "    df = df.drop(i)\n",
    "\n"
   ]
  },
  {
   "cell_type": "code",
   "execution_count": 70,
   "id": "6844d5b9",
   "metadata": {},
   "outputs": [
    {
     "data": {
      "text/html": [
       "<div>\n",
       "<style scoped>\n",
       "    .dataframe tbody tr th:only-of-type {\n",
       "        vertical-align: middle;\n",
       "    }\n",
       "\n",
       "    .dataframe tbody tr th {\n",
       "        vertical-align: top;\n",
       "    }\n",
       "\n",
       "    .dataframe thead th {\n",
       "        text-align: right;\n",
       "    }\n",
       "</style>\n",
       "<table border=\"1\" class=\"dataframe\">\n",
       "  <thead>\n",
       "    <tr style=\"text-align: right;\">\n",
       "      <th></th>\n",
       "      <th>מדינה / טריטוריה</th>\n",
       "      <th>מקרי הדבקה</th>\n",
       "      <th>למליון</th>\n",
       "      <th>במצב קשה</th>\n",
       "      <th>מקרי מוות</th>\n",
       "      <th>למליון</th>\n",
       "      <th>חוסנו[3]</th>\n",
       "      <th>מלא[3]</th>\n",
       "    </tr>\n",
       "  </thead>\n",
       "  <tbody>\n",
       "    <tr>\n",
       "      <th>222</th>\n",
       "      <td>MS Zaandam‏ (אנ') אוניית תענוגות</td>\n",
       "      <td>9</td>\n",
       "      <td>NaN</td>\n",
       "      <td>0</td>\n",
       "      <td>2</td>\n",
       "      <td>NaN</td>\n",
       "      <td>NaN</td>\n",
       "      <td>NaN</td>\n",
       "    </tr>\n",
       "    <tr>\n",
       "      <th>223</th>\n",
       "      <td>איי מרשל</td>\n",
       "      <td>7</td>\n",
       "      <td>117</td>\n",
       "      <td>0</td>\n",
       "      <td>0</td>\n",
       "      <td>NaN</td>\n",
       "      <td>NaN</td>\n",
       "      <td>NaN</td>\n",
       "    </tr>\n",
       "    <tr>\n",
       "      <th>224</th>\n",
       "      <td>איי קוק</td>\n",
       "      <td>6</td>\n",
       "      <td>341</td>\n",
       "      <td>?</td>\n",
       "      <td>0</td>\n",
       "      <td>NaN</td>\n",
       "      <td>NaN</td>\n",
       "      <td>NaN</td>\n",
       "    </tr>\n",
       "    <tr>\n",
       "      <th>225</th>\n",
       "      <td>סנט הלנה</td>\n",
       "      <td>2</td>\n",
       "      <td>327</td>\n",
       "      <td>0</td>\n",
       "      <td>0</td>\n",
       "      <td>NaN</td>\n",
       "      <td>NaN</td>\n",
       "      <td>NaN</td>\n",
       "    </tr>\n",
       "    <tr>\n",
       "      <th>226</th>\n",
       "      <td>מיקרונזיה</td>\n",
       "      <td>1</td>\n",
       "      <td>9</td>\n",
       "      <td>0</td>\n",
       "      <td>0</td>\n",
       "      <td>NaN</td>\n",
       "      <td>NaN</td>\n",
       "      <td>NaN</td>\n",
       "    </tr>\n",
       "  </tbody>\n",
       "</table>\n",
       "</div>"
      ],
      "text/plain": [
       "0                    מדינה / טריטוריה מקרי הדבקה למליון במצב קשה מקרי מוות  \\\n",
       "222  MS Zaandam‏ (אנ') אוניית תענוגות          9    NaN        0         2   \n",
       "223                          איי מרשל          7    117        0         0   \n",
       "224                           איי קוק          6    341        ?         0   \n",
       "225                          סנט הלנה          2    327        0         0   \n",
       "226                         מיקרונזיה          1      9        0         0   \n",
       "\n",
       "0   למליון חוסנו[3] מלא[3]  \n",
       "222    NaN      NaN    NaN  \n",
       "223    NaN      NaN    NaN  \n",
       "224    NaN      NaN    NaN  \n",
       "225    NaN      NaN    NaN  \n",
       "226    NaN      NaN    NaN  "
      ]
     },
     "execution_count": 70,
     "metadata": {},
     "output_type": "execute_result"
    }
   ],
   "source": [
    "df.tail()"
   ]
  },
  {
   "cell_type": "code",
   "execution_count": null,
   "id": "6eb8527e",
   "metadata": {},
   "outputs": [],
   "source": []
  },
  {
   "cell_type": "markdown",
   "id": "c5e7fd10",
   "metadata": {},
   "source": [
    "### we have lots of null valuse so we searched for more data."
   ]
  },
  {
   "cell_type": "markdown",
   "id": "0b627f37",
   "metadata": {},
   "source": [
    "### we found a table with all the countries and the presentage of vaccenated."
   ]
  },
  {
   "cell_type": "code",
   "execution_count": 71,
   "id": "ff6a7d30",
   "metadata": {},
   "outputs": [
    {
     "data": {
      "text/html": [
       "<div>\n",
       "<style scoped>\n",
       "    .dataframe tbody tr th:only-of-type {\n",
       "        vertical-align: middle;\n",
       "    }\n",
       "\n",
       "    .dataframe tbody tr th {\n",
       "        vertical-align: top;\n",
       "    }\n",
       "\n",
       "    .dataframe thead th {\n",
       "        text-align: right;\n",
       "    }\n",
       "</style>\n",
       "<table border=\"1\" class=\"dataframe\">\n",
       "  <thead>\n",
       "    <tr style=\"text-align: right;\">\n",
       "      <th></th>\n",
       "      <th>Unnamed: 0</th>\n",
       "      <th>World[d]</th>\n",
       "      <th>4,922,821,028</th>\n",
       "      <th>62.5%</th>\n",
       "    </tr>\n",
       "  </thead>\n",
       "  <tbody>\n",
       "    <tr>\n",
       "      <th>0</th>\n",
       "      <td>NaN</td>\n",
       "      <td>China</td>\n",
       "      <td>1266426000</td>\n",
       "      <td>87.7%</td>\n",
       "    </tr>\n",
       "    <tr>\n",
       "      <th>1</th>\n",
       "      <td>NaN</td>\n",
       "      <td>India</td>\n",
       "      <td>963517480</td>\n",
       "      <td>69.2%</td>\n",
       "    </tr>\n",
       "    <tr>\n",
       "      <th>2</th>\n",
       "      <td>NaN</td>\n",
       "      <td>European Union</td>\n",
       "      <td>335049868</td>\n",
       "      <td>74.9%</td>\n",
       "    </tr>\n",
       "    <tr>\n",
       "      <th>3</th>\n",
       "      <td>NaN</td>\n",
       "      <td>United States[e]</td>\n",
       "      <td>253055679</td>\n",
       "      <td>76.2%</td>\n",
       "    </tr>\n",
       "    <tr>\n",
       "      <th>4</th>\n",
       "      <td>NaN</td>\n",
       "      <td>Indonesia</td>\n",
       "      <td>189885858</td>\n",
       "      <td>68.7%</td>\n",
       "    </tr>\n",
       "    <tr>\n",
       "      <th>5</th>\n",
       "      <td>NaN</td>\n",
       "      <td>Brazil</td>\n",
       "      <td>176625569</td>\n",
       "      <td>82.5%</td>\n",
       "    </tr>\n",
       "    <tr>\n",
       "      <th>6</th>\n",
       "      <td>NaN</td>\n",
       "      <td>Pakistan</td>\n",
       "      <td>124309711</td>\n",
       "      <td>55.2%</td>\n",
       "    </tr>\n",
       "    <tr>\n",
       "      <th>7</th>\n",
       "      <td>NaN</td>\n",
       "      <td>Bangladesh</td>\n",
       "      <td>103358935</td>\n",
       "      <td>62.1%</td>\n",
       "    </tr>\n",
       "    <tr>\n",
       "      <th>8</th>\n",
       "      <td>NaN</td>\n",
       "      <td>Japan</td>\n",
       "      <td>101626424</td>\n",
       "      <td>80.6%</td>\n",
       "    </tr>\n",
       "    <tr>\n",
       "      <th>9</th>\n",
       "      <td>NaN</td>\n",
       "      <td>Mexico</td>\n",
       "      <td>85050217</td>\n",
       "      <td>65.3%</td>\n",
       "    </tr>\n",
       "  </tbody>\n",
       "</table>\n",
       "</div>"
      ],
      "text/plain": [
       "   Unnamed: 0          World[d]  4,922,821,028  62.5%\n",
       "0         NaN             China     1266426000  87.7%\n",
       "1         NaN             India      963517480  69.2%\n",
       "2         NaN    European Union      335049868  74.9%\n",
       "3         NaN  United States[e]      253055679  76.2%\n",
       "4         NaN         Indonesia      189885858  68.7%\n",
       "5         NaN            Brazil      176625569  82.5%\n",
       "6         NaN          Pakistan      124309711  55.2%\n",
       "7         NaN        Bangladesh      103358935  62.1%\n",
       "8         NaN             Japan      101626424  80.6%\n",
       "9         NaN            Mexico       85050217  65.3%"
      ]
     },
     "execution_count": 71,
     "metadata": {},
     "output_type": "execute_result"
    }
   ],
   "source": [
    "url = \"https://en.wikipedia.org/wiki/COVID-19_vaccine\"\n",
    "df2 =pd.read_html(url, skiprows=1)\n",
    "df2 = df2[1]\n",
    "df2.head(10)"
   ]
  },
  {
   "cell_type": "code",
   "execution_count": 72,
   "id": "49abe851",
   "metadata": {},
   "outputs": [
    {
     "name": "stdout",
     "output_type": "stream",
     "text": [
      "<class 'pandas.core.frame.DataFrame'>\n",
      "RangeIndex: 221 entries, 0 to 220\n",
      "Data columns (total 4 columns):\n",
      " #   Column         Non-Null Count  Dtype  \n",
      "---  ------         --------------  -----  \n",
      " 0   Unnamed: 0     0 non-null      float64\n",
      " 1   World[d]       221 non-null    object \n",
      " 2   4,922,821,028  221 non-null    int64  \n",
      " 3   62.5%          221 non-null    object \n",
      "dtypes: float64(1), int64(1), object(2)\n",
      "memory usage: 7.0+ KB\n"
     ]
    }
   ],
   "source": [
    "df2.info()"
   ]
  },
  {
   "cell_type": "code",
   "execution_count": 73,
   "id": "6f7fbbd3",
   "metadata": {},
   "outputs": [
    {
     "data": {
      "text/html": [
       "<div>\n",
       "<style scoped>\n",
       "    .dataframe tbody tr th:only-of-type {\n",
       "        vertical-align: middle;\n",
       "    }\n",
       "\n",
       "    .dataframe tbody tr th {\n",
       "        vertical-align: top;\n",
       "    }\n",
       "\n",
       "    .dataframe thead th {\n",
       "        text-align: right;\n",
       "    }\n",
       "</style>\n",
       "<table border=\"1\" class=\"dataframe\">\n",
       "  <thead>\n",
       "    <tr style=\"text-align: right;\">\n",
       "      <th></th>\n",
       "      <th>World[d]</th>\n",
       "      <th>62.5%</th>\n",
       "    </tr>\n",
       "  </thead>\n",
       "  <tbody>\n",
       "    <tr>\n",
       "      <th>0</th>\n",
       "      <td>China</td>\n",
       "      <td>87.7%</td>\n",
       "    </tr>\n",
       "    <tr>\n",
       "      <th>1</th>\n",
       "      <td>India</td>\n",
       "      <td>69.2%</td>\n",
       "    </tr>\n",
       "    <tr>\n",
       "      <th>2</th>\n",
       "      <td>European Union</td>\n",
       "      <td>74.9%</td>\n",
       "    </tr>\n",
       "    <tr>\n",
       "      <th>3</th>\n",
       "      <td>United States[e]</td>\n",
       "      <td>76.2%</td>\n",
       "    </tr>\n",
       "    <tr>\n",
       "      <th>4</th>\n",
       "      <td>Indonesia</td>\n",
       "      <td>68.7%</td>\n",
       "    </tr>\n",
       "  </tbody>\n",
       "</table>\n",
       "</div>"
      ],
      "text/plain": [
       "           World[d]  62.5%\n",
       "0             China  87.7%\n",
       "1             India  69.2%\n",
       "2    European Union  74.9%\n",
       "3  United States[e]  76.2%\n",
       "4         Indonesia  68.7%"
      ]
     },
     "execution_count": 73,
     "metadata": {},
     "output_type": "execute_result"
    }
   ],
   "source": [
    "del df2['Unnamed: 0']\n",
    "del df2['4,922,821,028']\n",
    "df2.head()"
   ]
  },
  {
   "cell_type": "code",
   "execution_count": 74,
   "id": "3c9d6565",
   "metadata": {},
   "outputs": [
    {
     "data": {
      "text/html": [
       "<div>\n",
       "<style scoped>\n",
       "    .dataframe tbody tr th:only-of-type {\n",
       "        vertical-align: middle;\n",
       "    }\n",
       "\n",
       "    .dataframe tbody tr th {\n",
       "        vertical-align: top;\n",
       "    }\n",
       "\n",
       "    .dataframe thead th {\n",
       "        text-align: right;\n",
       "    }\n",
       "</style>\n",
       "<table border=\"1\" class=\"dataframe\">\n",
       "  <thead>\n",
       "    <tr style=\"text-align: right;\">\n",
       "      <th></th>\n",
       "      <th>Country</th>\n",
       "      <th>62.5%</th>\n",
       "    </tr>\n",
       "  </thead>\n",
       "  <tbody>\n",
       "    <tr>\n",
       "      <th>0</th>\n",
       "      <td>China</td>\n",
       "      <td>87.7%</td>\n",
       "    </tr>\n",
       "    <tr>\n",
       "      <th>1</th>\n",
       "      <td>India</td>\n",
       "      <td>69.2%</td>\n",
       "    </tr>\n",
       "    <tr>\n",
       "      <th>2</th>\n",
       "      <td>European Union</td>\n",
       "      <td>74.9%</td>\n",
       "    </tr>\n",
       "    <tr>\n",
       "      <th>3</th>\n",
       "      <td>United States[e]</td>\n",
       "      <td>76.2%</td>\n",
       "    </tr>\n",
       "    <tr>\n",
       "      <th>4</th>\n",
       "      <td>Indonesia</td>\n",
       "      <td>68.7%</td>\n",
       "    </tr>\n",
       "  </tbody>\n",
       "</table>\n",
       "</div>"
      ],
      "text/plain": [
       "            Country  62.5%\n",
       "0             China  87.7%\n",
       "1             India  69.2%\n",
       "2    European Union  74.9%\n",
       "3  United States[e]  76.2%\n",
       "4         Indonesia  68.7%"
      ]
     },
     "execution_count": 74,
     "metadata": {},
     "output_type": "execute_result"
    }
   ],
   "source": [
    "df2.rename({'World[d]': 'Country','62.2%':'vaccenated'}, axis=1, inplace=True)\n",
    "df2.head()"
   ]
  },
  {
   "cell_type": "code",
   "execution_count": 75,
   "id": "25bd86ed",
   "metadata": {},
   "outputs": [
    {
     "data": {
      "text/html": [
       "<div>\n",
       "<style scoped>\n",
       "    .dataframe tbody tr th:only-of-type {\n",
       "        vertical-align: middle;\n",
       "    }\n",
       "\n",
       "    .dataframe tbody tr th {\n",
       "        vertical-align: top;\n",
       "    }\n",
       "\n",
       "    .dataframe thead th {\n",
       "        text-align: right;\n",
       "    }\n",
       "</style>\n",
       "<table border=\"1\" class=\"dataframe\">\n",
       "  <thead>\n",
       "    <tr style=\"text-align: right;\">\n",
       "      <th></th>\n",
       "      <th>Country</th>\n",
       "      <th>62.5%</th>\n",
       "    </tr>\n",
       "  </thead>\n",
       "  <tbody>\n",
       "    <tr>\n",
       "      <th>0</th>\n",
       "      <td>China</td>\n",
       "      <td>87.7%</td>\n",
       "    </tr>\n",
       "    <tr>\n",
       "      <th>1</th>\n",
       "      <td>India</td>\n",
       "      <td>69.2%</td>\n",
       "    </tr>\n",
       "    <tr>\n",
       "      <th>2</th>\n",
       "      <td>EuropeanUnion</td>\n",
       "      <td>74.9%</td>\n",
       "    </tr>\n",
       "    <tr>\n",
       "      <th>3</th>\n",
       "      <td>UnitedStates[e]</td>\n",
       "      <td>76.2%</td>\n",
       "    </tr>\n",
       "    <tr>\n",
       "      <th>4</th>\n",
       "      <td>Indonesia</td>\n",
       "      <td>68.7%</td>\n",
       "    </tr>\n",
       "  </tbody>\n",
       "</table>\n",
       "</div>"
      ],
      "text/plain": [
       "           Country  62.5%\n",
       "0            China  87.7%\n",
       "1            India  69.2%\n",
       "2    EuropeanUnion  74.9%\n",
       "3  UnitedStates[e]  76.2%\n",
       "4        Indonesia  68.7%"
      ]
     },
     "execution_count": 75,
     "metadata": {},
     "output_type": "execute_result"
    }
   ],
   "source": [
    "#df['Country'].rename({0: 'Country', 1: 'unfaction'}, axis=1, inplace=True)\n",
    "df2 = df2.replace(regex=[' '], value='')\n",
    "df2.head()"
   ]
  },
  {
   "cell_type": "code",
   "execution_count": 76,
   "id": "dbe3745e",
   "metadata": {},
   "outputs": [
    {
     "data": {
      "text/html": [
       "<div>\n",
       "<style scoped>\n",
       "    .dataframe tbody tr th:only-of-type {\n",
       "        vertical-align: middle;\n",
       "    }\n",
       "\n",
       "    .dataframe tbody tr th {\n",
       "        vertical-align: top;\n",
       "    }\n",
       "\n",
       "    .dataframe thead th {\n",
       "        text-align: right;\n",
       "    }\n",
       "</style>\n",
       "<table border=\"1\" class=\"dataframe\">\n",
       "  <thead>\n",
       "    <tr style=\"text-align: right;\">\n",
       "      <th></th>\n",
       "      <th>Country</th>\n",
       "      <th>62.5%</th>\n",
       "    </tr>\n",
       "  </thead>\n",
       "  <tbody>\n",
       "    <tr>\n",
       "      <th>0</th>\n",
       "      <td>China</td>\n",
       "      <td>87.7%</td>\n",
       "    </tr>\n",
       "    <tr>\n",
       "      <th>1</th>\n",
       "      <td>India</td>\n",
       "      <td>69.2%</td>\n",
       "    </tr>\n",
       "    <tr>\n",
       "      <th>2</th>\n",
       "      <td>EuropeanUnion</td>\n",
       "      <td>74.9%</td>\n",
       "    </tr>\n",
       "    <tr>\n",
       "      <th>3</th>\n",
       "      <td>USA</td>\n",
       "      <td>76.2%</td>\n",
       "    </tr>\n",
       "    <tr>\n",
       "      <th>4</th>\n",
       "      <td>Indonesia</td>\n",
       "      <td>68.7%</td>\n",
       "    </tr>\n",
       "    <tr>\n",
       "      <th>5</th>\n",
       "      <td>Brazil</td>\n",
       "      <td>82.5%</td>\n",
       "    </tr>\n",
       "    <tr>\n",
       "      <th>6</th>\n",
       "      <td>Pakistan</td>\n",
       "      <td>55.2%</td>\n",
       "    </tr>\n",
       "    <tr>\n",
       "      <th>7</th>\n",
       "      <td>Bangladesh</td>\n",
       "      <td>62.1%</td>\n",
       "    </tr>\n",
       "    <tr>\n",
       "      <th>8</th>\n",
       "      <td>Japan</td>\n",
       "      <td>80.6%</td>\n",
       "    </tr>\n",
       "    <tr>\n",
       "      <th>9</th>\n",
       "      <td>Mexico</td>\n",
       "      <td>65.3%</td>\n",
       "    </tr>\n",
       "    <tr>\n",
       "      <th>10</th>\n",
       "      <td>Vietnam</td>\n",
       "      <td>81.0%</td>\n",
       "    </tr>\n",
       "    <tr>\n",
       "      <th>11</th>\n",
       "      <td>Russia</td>\n",
       "      <td>53.6%</td>\n",
       "    </tr>\n",
       "    <tr>\n",
       "      <th>12</th>\n",
       "      <td>Philippines</td>\n",
       "      <td>62.0%</td>\n",
       "    </tr>\n",
       "    <tr>\n",
       "      <th>13</th>\n",
       "      <td>Germany</td>\n",
       "      <td>75.5%</td>\n",
       "    </tr>\n",
       "    <tr>\n",
       "      <th>14</th>\n",
       "      <td>Iran</td>\n",
       "      <td>73.3%</td>\n",
       "    </tr>\n",
       "    <tr>\n",
       "      <th>15</th>\n",
       "      <td>Turkey</td>\n",
       "      <td>67.8%</td>\n",
       "    </tr>\n",
       "    <tr>\n",
       "      <th>16</th>\n",
       "      <td>France</td>\n",
       "      <td>80.0%</td>\n",
       "    </tr>\n",
       "    <tr>\n",
       "      <th>17</th>\n",
       "      <td>Thailand</td>\n",
       "      <td>76.1%</td>\n",
       "    </tr>\n",
       "    <tr>\n",
       "      <th>18</th>\n",
       "      <td>UK</td>\n",
       "      <td>77.1%</td>\n",
       "    </tr>\n",
       "    <tr>\n",
       "      <th>19</th>\n",
       "      <td>Italy</td>\n",
       "      <td>83.8%</td>\n",
       "    </tr>\n",
       "  </tbody>\n",
       "</table>\n",
       "</div>"
      ],
      "text/plain": [
       "          Country  62.5%\n",
       "0           China  87.7%\n",
       "1           India  69.2%\n",
       "2   EuropeanUnion  74.9%\n",
       "3             USA  76.2%\n",
       "4       Indonesia  68.7%\n",
       "5          Brazil  82.5%\n",
       "6        Pakistan  55.2%\n",
       "7      Bangladesh  62.1%\n",
       "8           Japan  80.6%\n",
       "9          Mexico  65.3%\n",
       "10        Vietnam  81.0%\n",
       "11         Russia  53.6%\n",
       "12    Philippines  62.0%\n",
       "13        Germany  75.5%\n",
       "14           Iran  73.3%\n",
       "15         Turkey  67.8%\n",
       "16         France  80.0%\n",
       "17       Thailand  76.1%\n",
       "18             UK  77.1%\n",
       "19          Italy  83.8%"
      ]
     },
     "execution_count": 76,
     "metadata": {},
     "output_type": "execute_result"
    }
   ],
   "source": [
    "\n",
    "df2['Country'] = df2['Country'].replace(['UnitedStates[e]'],'USA')\n",
    "df2['Country'] = df2['Country'].replace(['UnitedKingdom'],'UK')\n",
    "df2['Country'] = df2['Country'].replace(['Italy[f]'],'Italy')\n",
    "df2['Country'] = df2['Country'].replace(['SouthKorea'],'S.Korea')\n",
    "df2.head(20)"
   ]
  },
  {
   "cell_type": "markdown",
   "id": "ee436075",
   "metadata": {},
   "source": [
    "### we still have a lack of data so we kept on searching for more data."
   ]
  },
  {
   "cell_type": "code",
   "execution_count": 77,
   "id": "45cd5707",
   "metadata": {},
   "outputs": [],
   "source": [
    "\n",
    "url = \"https://www.worldometers.info/coronavirus/?utm_campaign=homeAdvegas1?/embed/fd0k_hbXWcQ\"\n",
    "\n",
    "res = requests.get(url)\n",
    "soup = bs(res.content, 'html.parser')\n",
    "\n",
    "table_data = soup.select_one('#main_table_countries_today')\n"
   ]
  },
  {
   "cell_type": "code",
   "execution_count": 78,
   "id": "1a1e5866",
   "metadata": {},
   "outputs": [],
   "source": [
    "headers = []\n",
    "for i in table_data.find_all('th'):\n",
    "    title = i.text\n",
    "    headers.append(title)"
   ]
  },
  {
   "cell_type": "code",
   "execution_count": 79,
   "id": "6318f11e",
   "metadata": {},
   "outputs": [
    {
     "data": {
      "text/html": [
       "<div>\n",
       "<style scoped>\n",
       "    .dataframe tbody tr th:only-of-type {\n",
       "        vertical-align: middle;\n",
       "    }\n",
       "\n",
       "    .dataframe tbody tr th {\n",
       "        vertical-align: top;\n",
       "    }\n",
       "\n",
       "    .dataframe thead th {\n",
       "        text-align: right;\n",
       "    }\n",
       "</style>\n",
       "<table border=\"1\" class=\"dataframe\">\n",
       "  <thead>\n",
       "    <tr style=\"text-align: right;\">\n",
       "      <th></th>\n",
       "      <th>#</th>\n",
       "      <th>Country,Other</th>\n",
       "      <th>TotalCases</th>\n",
       "      <th>NewCases</th>\n",
       "      <th>TotalDeaths</th>\n",
       "      <th>NewDeaths</th>\n",
       "      <th>TotalRecovered</th>\n",
       "      <th>NewRecovered</th>\n",
       "      <th>ActiveCases</th>\n",
       "      <th>Serious,Critical</th>\n",
       "      <th>...</th>\n",
       "      <th>TotalTests</th>\n",
       "      <th>Tests/\\n1M pop\\n</th>\n",
       "      <th>Population</th>\n",
       "      <th>Continent</th>\n",
       "      <th>1 Caseevery X ppl</th>\n",
       "      <th>1 Deathevery X ppl</th>\n",
       "      <th>1 Testevery X ppl</th>\n",
       "      <th>New Cases/1M pop</th>\n",
       "      <th>New Deaths/1M pop</th>\n",
       "      <th>Active Cases/1M pop</th>\n",
       "    </tr>\n",
       "  </thead>\n",
       "  <tbody>\n",
       "    <tr>\n",
       "      <th>0</th>\n",
       "      <td></td>\n",
       "      <td>\\nNorth America\\n</td>\n",
       "      <td>94,378,530</td>\n",
       "      <td>+30,803</td>\n",
       "      <td>1,389,570</td>\n",
       "      <td>+1,240</td>\n",
       "      <td>64,479,280</td>\n",
       "      <td>+27,204</td>\n",
       "      <td>28,509,680</td>\n",
       "      <td>16,684</td>\n",
       "      <td>...</td>\n",
       "      <td></td>\n",
       "      <td></td>\n",
       "      <td></td>\n",
       "      <td>North America</td>\n",
       "      <td>\\n</td>\n",
       "      <td></td>\n",
       "      <td></td>\n",
       "      <td></td>\n",
       "      <td></td>\n",
       "      <td></td>\n",
       "    </tr>\n",
       "    <tr>\n",
       "      <th>1</th>\n",
       "      <td></td>\n",
       "      <td>\\nAsia\\n</td>\n",
       "      <td>113,500,549</td>\n",
       "      <td>+388,373</td>\n",
       "      <td>1,338,230</td>\n",
       "      <td>+1,342</td>\n",
       "      <td>105,286,758</td>\n",
       "      <td>+265,343</td>\n",
       "      <td>6,875,561</td>\n",
       "      <td>31,373</td>\n",
       "      <td>...</td>\n",
       "      <td></td>\n",
       "      <td></td>\n",
       "      <td></td>\n",
       "      <td>Asia</td>\n",
       "      <td>\\n</td>\n",
       "      <td></td>\n",
       "      <td></td>\n",
       "      <td></td>\n",
       "      <td></td>\n",
       "      <td></td>\n",
       "    </tr>\n",
       "    <tr>\n",
       "      <th>2</th>\n",
       "      <td></td>\n",
       "      <td>\\nSouth America\\n</td>\n",
       "      <td>53,584,758</td>\n",
       "      <td>+25,962</td>\n",
       "      <td>1,251,091</td>\n",
       "      <td>+59</td>\n",
       "      <td>46,877,468</td>\n",
       "      <td>+20,493</td>\n",
       "      <td>5,456,199</td>\n",
       "      <td>13,825</td>\n",
       "      <td>...</td>\n",
       "      <td></td>\n",
       "      <td></td>\n",
       "      <td></td>\n",
       "      <td>South America</td>\n",
       "      <td>\\n</td>\n",
       "      <td></td>\n",
       "      <td></td>\n",
       "      <td></td>\n",
       "      <td></td>\n",
       "      <td></td>\n",
       "    </tr>\n",
       "    <tr>\n",
       "      <th>3</th>\n",
       "      <td></td>\n",
       "      <td>\\nEurope\\n</td>\n",
       "      <td>152,756,773</td>\n",
       "      <td>+611,176</td>\n",
       "      <td>1,695,028</td>\n",
       "      <td>+2,637</td>\n",
       "      <td>127,084,979</td>\n",
       "      <td>+1,042,417</td>\n",
       "      <td>23,976,766</td>\n",
       "      <td>15,984</td>\n",
       "      <td>...</td>\n",
       "      <td></td>\n",
       "      <td></td>\n",
       "      <td></td>\n",
       "      <td>Europe</td>\n",
       "      <td>\\n</td>\n",
       "      <td></td>\n",
       "      <td></td>\n",
       "      <td></td>\n",
       "      <td></td>\n",
       "      <td></td>\n",
       "    </tr>\n",
       "    <tr>\n",
       "      <th>4</th>\n",
       "      <td></td>\n",
       "      <td>\\nAfrica\\n</td>\n",
       "      <td>11,482,844</td>\n",
       "      <td>+7,421</td>\n",
       "      <td>248,455</td>\n",
       "      <td>+143</td>\n",
       "      <td>10,516,965</td>\n",
       "      <td>+13,638</td>\n",
       "      <td>717,424</td>\n",
       "      <td>1,887</td>\n",
       "      <td>...</td>\n",
       "      <td></td>\n",
       "      <td></td>\n",
       "      <td></td>\n",
       "      <td>Africa</td>\n",
       "      <td>\\n</td>\n",
       "      <td></td>\n",
       "      <td></td>\n",
       "      <td></td>\n",
       "      <td></td>\n",
       "      <td></td>\n",
       "    </tr>\n",
       "  </tbody>\n",
       "</table>\n",
       "<p>5 rows × 22 columns</p>\n",
       "</div>"
      ],
      "text/plain": [
       "  #      Country,Other   TotalCases  NewCases TotalDeaths NewDeaths  \\\n",
       "0    \\nNorth America\\n   94,378,530   +30,803   1,389,570    +1,240   \n",
       "1             \\nAsia\\n  113,500,549  +388,373   1,338,230    +1,342   \n",
       "2    \\nSouth America\\n   53,584,758   +25,962   1,251,091       +59   \n",
       "3           \\nEurope\\n  152,756,773  +611,176   1,695,028    +2,637   \n",
       "4           \\nAfrica\\n   11,482,844    +7,421     248,455      +143   \n",
       "\n",
       "  TotalRecovered NewRecovered ActiveCases Serious,Critical  ... TotalTests  \\\n",
       "0     64,479,280      +27,204  28,509,680           16,684  ...              \n",
       "1    105,286,758     +265,343   6,875,561           31,373  ...              \n",
       "2     46,877,468      +20,493   5,456,199           13,825  ...              \n",
       "3    127,084,979   +1,042,417  23,976,766           15,984  ...              \n",
       "4     10,516,965      +13,638     717,424            1,887  ...              \n",
       "\n",
       "  Tests/\\n1M pop\\n Population      Continent 1 Caseevery X ppl  \\\n",
       "0                              North America                \\n   \n",
       "1                                       Asia                \\n   \n",
       "2                              South America                \\n   \n",
       "3                                     Europe                \\n   \n",
       "4                                     Africa                \\n   \n",
       "\n",
       "  1 Deathevery X ppl 1 Testevery X ppl New Cases/1M pop New Deaths/1M pop  \\\n",
       "0                                                                           \n",
       "1                                                                           \n",
       "2                                                                           \n",
       "3                                                                           \n",
       "4                                                                           \n",
       "\n",
       "  Active Cases/1M pop  \n",
       "0                      \n",
       "1                      \n",
       "2                      \n",
       "3                      \n",
       "4                      \n",
       "\n",
       "[5 rows x 22 columns]"
      ]
     },
     "execution_count": 79,
     "metadata": {},
     "output_type": "execute_result"
    }
   ],
   "source": [
    "\n",
    "df3 = pd.DataFrame(columns = headers)\n",
    "\n",
    "for j in table_data.find_all('tr')[1:]:\n",
    "        row_data = j.find_all('td')\n",
    "        row = [tr.text for tr in row_data]\n",
    "        length = len(df3)\n",
    "        \n",
    "        df3.loc[length] = row\n",
    "df3.head() "
   ]
  },
  {
   "cell_type": "code",
   "execution_count": 80,
   "id": "2559eccd",
   "metadata": {},
   "outputs": [
    {
     "name": "stdout",
     "output_type": "stream",
     "text": [
      "<class 'pandas.core.frame.DataFrame'>\n",
      "Int64Index: 242 entries, 0 to 241\n",
      "Data columns (total 22 columns):\n",
      " #   Column               Non-Null Count  Dtype \n",
      "---  ------               --------------  ----- \n",
      " 0   #                    242 non-null    object\n",
      " 1   Country,Other        242 non-null    object\n",
      " 2   TotalCases           242 non-null    object\n",
      " 3   NewCases             242 non-null    object\n",
      " 4   TotalDeaths          242 non-null    object\n",
      " 5   NewDeaths            242 non-null    object\n",
      " 6   TotalRecovered       242 non-null    object\n",
      " 7   NewRecovered         242 non-null    object\n",
      " 8   ActiveCases          242 non-null    object\n",
      " 9   Serious,Critical     242 non-null    object\n",
      " 10  Tot Cases/1M pop     242 non-null    object\n",
      " 11  Deaths/1M pop        242 non-null    object\n",
      " 12  TotalTests           242 non-null    object\n",
      " 13  Tests/\n",
      "1M pop\n",
      "       242 non-null    object\n",
      " 14  Population           242 non-null    object\n",
      " 15  Continent            242 non-null    object\n",
      " 16  1 Caseevery X ppl    242 non-null    object\n",
      " 17  1 Deathevery X ppl   242 non-null    object\n",
      " 18  1 Testevery X ppl    242 non-null    object\n",
      " 19  New Cases/1M pop     242 non-null    object\n",
      " 20  New Deaths/1M pop    242 non-null    object\n",
      " 21  Active Cases/1M pop  242 non-null    object\n",
      "dtypes: object(22)\n",
      "memory usage: 43.5+ KB\n"
     ]
    }
   ],
   "source": [
    "df3.info()"
   ]
  },
  {
   "cell_type": "code",
   "execution_count": 81,
   "id": "d894d23a",
   "metadata": {},
   "outputs": [
    {
     "name": "stdout",
     "output_type": "stream",
     "text": [
      "<class 'pandas.core.frame.DataFrame'>\n",
      "Int64Index: 242 entries, 0 to 241\n",
      "Data columns (total 22 columns):\n",
      " #   Column               Non-Null Count  Dtype \n",
      "---  ------               --------------  ----- \n",
      " 0   #                    242 non-null    object\n",
      " 1   Country,Other        242 non-null    object\n",
      " 2   TotalCases           242 non-null    object\n",
      " 3   NewCases             242 non-null    object\n",
      " 4   TotalDeaths          242 non-null    object\n",
      " 5   NewDeaths            242 non-null    object\n",
      " 6   TotalRecovered       242 non-null    object\n",
      " 7   NewRecovered         242 non-null    object\n",
      " 8   ActiveCases          242 non-null    object\n",
      " 9   Serious,Critical     242 non-null    object\n",
      " 10  Tot Cases/1M pop     242 non-null    object\n",
      " 11  Deaths/1M pop        242 non-null    object\n",
      " 12  TotalTests           242 non-null    object\n",
      " 13  Tests/\n",
      "1M pop\n",
      "       242 non-null    object\n",
      " 14  Population           242 non-null    object\n",
      " 15  Continent            242 non-null    object\n",
      " 16  1 Caseevery X ppl    242 non-null    object\n",
      " 17  1 Deathevery X ppl   242 non-null    object\n",
      " 18  1 Testevery X ppl    242 non-null    object\n",
      " 19  New Cases/1M pop     242 non-null    object\n",
      " 20  New Deaths/1M pop    242 non-null    object\n",
      " 21  Active Cases/1M pop  242 non-null    object\n",
      "dtypes: object(22)\n",
      "memory usage: 43.5+ KB\n"
     ]
    }
   ],
   "source": [
    "df3 = df3.replace(regex=['\\n'], value='')\n",
    "df3 = df3.replace(regex=[' '], value='')\n",
    "df3 = df3.replace(regex=[','], value='')\n",
    "\n",
    "#df3 = df3.replace(regex=[\"+\"], value='')\n",
    "df3.head()\n",
    "df3.info()"
   ]
  },
  {
   "cell_type": "markdown",
   "id": "216ab197",
   "metadata": {},
   "source": [
    "### the colomns with 'new' (cases, dethes, recovered..) are missing lots of data.\n",
    "### in addition we didnt fined a way to deleat the char '+' so that we could convert the colomn to intiger.\n",
    "### In any case, we dont think that there is a strong co variance between the colomn \"TotalTests\"\n",
    "### therefore we will drop those colomns"
   ]
  },
  {
   "cell_type": "code",
   "execution_count": 82,
   "id": "11b5002a",
   "metadata": {},
   "outputs": [
    {
     "data": {
      "text/html": [
       "<div>\n",
       "<style scoped>\n",
       "    .dataframe tbody tr th:only-of-type {\n",
       "        vertical-align: middle;\n",
       "    }\n",
       "\n",
       "    .dataframe tbody tr th {\n",
       "        vertical-align: top;\n",
       "    }\n",
       "\n",
       "    .dataframe thead th {\n",
       "        text-align: right;\n",
       "    }\n",
       "</style>\n",
       "<table border=\"1\" class=\"dataframe\">\n",
       "  <thead>\n",
       "    <tr style=\"text-align: right;\">\n",
       "      <th></th>\n",
       "      <th>#</th>\n",
       "      <th>Country,Other</th>\n",
       "      <th>TotalRecovered</th>\n",
       "      <th>Serious,Critical</th>\n",
       "      <th>Tot Cases/1M pop</th>\n",
       "      <th>Deaths/1M pop</th>\n",
       "      <th>Tests/\\n1M pop\\n</th>\n",
       "      <th>Population</th>\n",
       "      <th>Active Cases/1M pop</th>\n",
       "    </tr>\n",
       "  </thead>\n",
       "  <tbody>\n",
       "    <tr>\n",
       "      <th>0</th>\n",
       "      <td></td>\n",
       "      <td>NorthAmerica</td>\n",
       "      <td>64479280</td>\n",
       "      <td>16684</td>\n",
       "      <td></td>\n",
       "      <td></td>\n",
       "      <td></td>\n",
       "      <td></td>\n",
       "      <td></td>\n",
       "    </tr>\n",
       "    <tr>\n",
       "      <th>1</th>\n",
       "      <td></td>\n",
       "      <td>Asia</td>\n",
       "      <td>105286758</td>\n",
       "      <td>31373</td>\n",
       "      <td></td>\n",
       "      <td></td>\n",
       "      <td></td>\n",
       "      <td></td>\n",
       "      <td></td>\n",
       "    </tr>\n",
       "    <tr>\n",
       "      <th>2</th>\n",
       "      <td></td>\n",
       "      <td>SouthAmerica</td>\n",
       "      <td>46877468</td>\n",
       "      <td>13825</td>\n",
       "      <td></td>\n",
       "      <td></td>\n",
       "      <td></td>\n",
       "      <td></td>\n",
       "      <td></td>\n",
       "    </tr>\n",
       "    <tr>\n",
       "      <th>3</th>\n",
       "      <td></td>\n",
       "      <td>Europe</td>\n",
       "      <td>127084979</td>\n",
       "      <td>15984</td>\n",
       "      <td></td>\n",
       "      <td></td>\n",
       "      <td></td>\n",
       "      <td></td>\n",
       "      <td></td>\n",
       "    </tr>\n",
       "    <tr>\n",
       "      <th>4</th>\n",
       "      <td></td>\n",
       "      <td>Africa</td>\n",
       "      <td>10516965</td>\n",
       "      <td>1887</td>\n",
       "      <td></td>\n",
       "      <td></td>\n",
       "      <td></td>\n",
       "      <td></td>\n",
       "      <td></td>\n",
       "    </tr>\n",
       "  </tbody>\n",
       "</table>\n",
       "</div>"
      ],
      "text/plain": [
       "  # Country,Other TotalRecovered Serious,Critical Tot Cases/1M pop  \\\n",
       "0    NorthAmerica       64479280            16684                    \n",
       "1            Asia      105286758            31373                    \n",
       "2    SouthAmerica       46877468            13825                    \n",
       "3          Europe      127084979            15984                    \n",
       "4          Africa       10516965             1887                    \n",
       "\n",
       "  Deaths/1M pop Tests/\\n1M pop\\n Population Active Cases/1M pop  \n",
       "0                                                                \n",
       "1                                                                \n",
       "2                                                                \n",
       "3                                                                \n",
       "4                                                                "
      ]
     },
     "execution_count": 82,
     "metadata": {},
     "output_type": "execute_result"
    }
   ],
   "source": [
    "del df3['NewCases'] # +\n",
    "del df3['NewDeaths'] # +\n",
    "del df3['NewRecovered'] # +\n",
    "del df3['Continent'] # irrelevent\n",
    "del df3['New Deaths/1M pop'] # mostly null valuse\n",
    "del df3['New Cases/1M pop'] # mostly null valuse\n",
    "del df3['TotalCases'] # we have pair 1M\n",
    "del df3['TotalDeaths'] # we have pair 1M\n",
    "del df3['TotalTests'] # we have pair 1M\n",
    "del df3['ActiveCases'] # we have pair 1M\n",
    "del df3['1 Caseevery X ppl'] # we have pair 1M\n",
    "del df3['1 Deathevery X ppl'] # we have pair 1M\n",
    "del df3['1 Testevery X ppl'] # we have pair 1M\n",
    "\n",
    "df3.head()"
   ]
  },
  {
   "cell_type": "markdown",
   "id": "2a4e8ec1",
   "metadata": {},
   "source": [
    "### droping the 7 first rows which are irrelevent (Continents and the whole world)"
   ]
  },
  {
   "cell_type": "code",
   "execution_count": 83,
   "id": "1962306a",
   "metadata": {},
   "outputs": [
    {
     "data": {
      "text/html": [
       "<div>\n",
       "<style scoped>\n",
       "    .dataframe tbody tr th:only-of-type {\n",
       "        vertical-align: middle;\n",
       "    }\n",
       "\n",
       "    .dataframe tbody tr th {\n",
       "        vertical-align: top;\n",
       "    }\n",
       "\n",
       "    .dataframe thead th {\n",
       "        text-align: right;\n",
       "    }\n",
       "</style>\n",
       "<table border=\"1\" class=\"dataframe\">\n",
       "  <thead>\n",
       "    <tr style=\"text-align: right;\">\n",
       "      <th></th>\n",
       "      <th>#</th>\n",
       "      <th>Country,Other</th>\n",
       "      <th>TotalRecovered</th>\n",
       "      <th>Serious,Critical</th>\n",
       "      <th>Tot Cases/1M pop</th>\n",
       "      <th>Deaths/1M pop</th>\n",
       "      <th>Tests/\\n1M pop\\n</th>\n",
       "      <th>Population</th>\n",
       "      <th>Active Cases/1M pop</th>\n",
       "    </tr>\n",
       "  </thead>\n",
       "  <tbody>\n",
       "    <tr>\n",
       "      <th>8</th>\n",
       "      <td>1</td>\n",
       "      <td>USA</td>\n",
       "      <td>52201715</td>\n",
       "      <td>10370</td>\n",
       "      <td>240215</td>\n",
       "      <td>2884</td>\n",
       "      <td>2821246</td>\n",
       "      <td>334188863</td>\n",
       "      <td>81126</td>\n",
       "    </tr>\n",
       "    <tr>\n",
       "      <th>9</th>\n",
       "      <td>2</td>\n",
       "      <td>India</td>\n",
       "      <td>42189887</td>\n",
       "      <td>8944</td>\n",
       "      <td>30570</td>\n",
       "      <td>366</td>\n",
       "      <td>543699</td>\n",
       "      <td>1402272769</td>\n",
       "      <td>117</td>\n",
       "    </tr>\n",
       "    <tr>\n",
       "      <th>10</th>\n",
       "      <td>3</td>\n",
       "      <td>Brazil</td>\n",
       "      <td>25505984</td>\n",
       "      <td>8318</td>\n",
       "      <td>131845</td>\n",
       "      <td>3002</td>\n",
       "      <td>296579</td>\n",
       "      <td>215039621</td>\n",
       "      <td>10232</td>\n",
       "    </tr>\n",
       "    <tr>\n",
       "      <th>11</th>\n",
       "      <td>4</td>\n",
       "      <td>France</td>\n",
       "      <td>19735713</td>\n",
       "      <td>3055</td>\n",
       "      <td>341951</td>\n",
       "      <td>2095</td>\n",
       "      <td>3717401</td>\n",
       "      <td>65510629</td>\n",
       "      <td>38596</td>\n",
       "    </tr>\n",
       "    <tr>\n",
       "      <th>12</th>\n",
       "      <td>5</td>\n",
       "      <td>UK</td>\n",
       "      <td>17011869</td>\n",
       "      <td>312</td>\n",
       "      <td>273613</td>\n",
       "      <td>2351</td>\n",
       "      <td>6992027</td>\n",
       "      <td>68471406</td>\n",
       "      <td>22810</td>\n",
       "    </tr>\n",
       "  </tbody>\n",
       "</table>\n",
       "</div>"
      ],
      "text/plain": [
       "    # Country,Other TotalRecovered Serious,Critical Tot Cases/1M pop  \\\n",
       "8   1           USA       52201715            10370           240215   \n",
       "9   2         India       42189887             8944            30570   \n",
       "10  3        Brazil       25505984             8318           131845   \n",
       "11  4        France       19735713             3055           341951   \n",
       "12  5            UK       17011869              312           273613   \n",
       "\n",
       "   Deaths/1M pop Tests/\\n1M pop\\n  Population Active Cases/1M pop  \n",
       "8           2884          2821246   334188863               81126  \n",
       "9            366           543699  1402272769                 117  \n",
       "10          3002           296579   215039621               10232  \n",
       "11          2095          3717401    65510629               38596  \n",
       "12          2351          6992027    68471406               22810  "
      ]
     },
     "execution_count": 83,
     "metadata": {},
     "output_type": "execute_result"
    }
   ],
   "source": [
    "for i in range (0,8):\n",
    "    df3 = df3.drop(i)\n",
    "df3.head()"
   ]
  },
  {
   "cell_type": "code",
   "execution_count": 84,
   "id": "ba8768ff",
   "metadata": {},
   "outputs": [
    {
     "data": {
      "text/html": [
       "<div>\n",
       "<style scoped>\n",
       "    .dataframe tbody tr th:only-of-type {\n",
       "        vertical-align: middle;\n",
       "    }\n",
       "\n",
       "    .dataframe tbody tr th {\n",
       "        vertical-align: top;\n",
       "    }\n",
       "\n",
       "    .dataframe thead th {\n",
       "        text-align: right;\n",
       "    }\n",
       "</style>\n",
       "<table border=\"1\" class=\"dataframe\">\n",
       "  <thead>\n",
       "    <tr style=\"text-align: right;\">\n",
       "      <th></th>\n",
       "      <th>#</th>\n",
       "      <th>Country</th>\n",
       "      <th>TotalRecovered</th>\n",
       "      <th>Serious,Critical</th>\n",
       "      <th>Tot Cases/1M pop</th>\n",
       "      <th>Deaths/1M pop</th>\n",
       "      <th>Tests/\\n1M pop\\n</th>\n",
       "      <th>Population</th>\n",
       "      <th>Active Cases/1M pop</th>\n",
       "    </tr>\n",
       "  </thead>\n",
       "  <tbody>\n",
       "    <tr>\n",
       "      <th>8</th>\n",
       "      <td>1</td>\n",
       "      <td>USA</td>\n",
       "      <td>52201715</td>\n",
       "      <td>10370</td>\n",
       "      <td>240215</td>\n",
       "      <td>2884</td>\n",
       "      <td>2821246</td>\n",
       "      <td>334188863</td>\n",
       "      <td>81126</td>\n",
       "    </tr>\n",
       "    <tr>\n",
       "      <th>9</th>\n",
       "      <td>2</td>\n",
       "      <td>India</td>\n",
       "      <td>42189887</td>\n",
       "      <td>8944</td>\n",
       "      <td>30570</td>\n",
       "      <td>366</td>\n",
       "      <td>543699</td>\n",
       "      <td>1402272769</td>\n",
       "      <td>117</td>\n",
       "    </tr>\n",
       "    <tr>\n",
       "      <th>10</th>\n",
       "      <td>3</td>\n",
       "      <td>Brazil</td>\n",
       "      <td>25505984</td>\n",
       "      <td>8318</td>\n",
       "      <td>131845</td>\n",
       "      <td>3002</td>\n",
       "      <td>296579</td>\n",
       "      <td>215039621</td>\n",
       "      <td>10232</td>\n",
       "    </tr>\n",
       "    <tr>\n",
       "      <th>11</th>\n",
       "      <td>4</td>\n",
       "      <td>France</td>\n",
       "      <td>19735713</td>\n",
       "      <td>3055</td>\n",
       "      <td>341951</td>\n",
       "      <td>2095</td>\n",
       "      <td>3717401</td>\n",
       "      <td>65510629</td>\n",
       "      <td>38596</td>\n",
       "    </tr>\n",
       "    <tr>\n",
       "      <th>12</th>\n",
       "      <td>5</td>\n",
       "      <td>UK</td>\n",
       "      <td>17011869</td>\n",
       "      <td>312</td>\n",
       "      <td>273613</td>\n",
       "      <td>2351</td>\n",
       "      <td>6992027</td>\n",
       "      <td>68471406</td>\n",
       "      <td>22810</td>\n",
       "    </tr>\n",
       "  </tbody>\n",
       "</table>\n",
       "</div>"
      ],
      "text/plain": [
       "    # Country TotalRecovered Serious,Critical Tot Cases/1M pop Deaths/1M pop  \\\n",
       "8   1     USA       52201715            10370           240215          2884   \n",
       "9   2   India       42189887             8944            30570           366   \n",
       "10  3  Brazil       25505984             8318           131845          3002   \n",
       "11  4  France       19735713             3055           341951          2095   \n",
       "12  5      UK       17011869              312           273613          2351   \n",
       "\n",
       "   Tests/\\n1M pop\\n  Population Active Cases/1M pop  \n",
       "8           2821246   334188863               81126  \n",
       "9            543699  1402272769                 117  \n",
       "10           296579   215039621               10232  \n",
       "11          3717401    65510629               38596  \n",
       "12          6992027    68471406               22810  "
      ]
     },
     "execution_count": 84,
     "metadata": {},
     "output_type": "execute_result"
    }
   ],
   "source": [
    "df3.rename({'Country,Other': 'Country'}, axis=1, inplace=True)\n",
    "df3.head()"
   ]
  },
  {
   "cell_type": "code",
   "execution_count": 85,
   "id": "30de6da0",
   "metadata": {},
   "outputs": [],
   "source": [
    "del df3['#']"
   ]
  },
  {
   "cell_type": "markdown",
   "id": "de239474",
   "metadata": {},
   "source": [
    "## we tried to translate df1, but we didnt seccied and we had all the columns already in df3 accept of \"fully vaccenated\" therefore we decided to not use the first table."
   ]
  },
  {
   "cell_type": "markdown",
   "id": "0fc69108",
   "metadata": {},
   "source": [
    "### we merged fd2 with df3 "
   ]
  },
  {
   "cell_type": "code",
   "execution_count": 86,
   "id": "8d1a80a6",
   "metadata": {},
   "outputs": [
    {
     "data": {
      "text/html": [
       "<div>\n",
       "<style scoped>\n",
       "    .dataframe tbody tr th:only-of-type {\n",
       "        vertical-align: middle;\n",
       "    }\n",
       "\n",
       "    .dataframe tbody tr th {\n",
       "        vertical-align: top;\n",
       "    }\n",
       "\n",
       "    .dataframe thead th {\n",
       "        text-align: right;\n",
       "    }\n",
       "</style>\n",
       "<table border=\"1\" class=\"dataframe\">\n",
       "  <thead>\n",
       "    <tr style=\"text-align: right;\">\n",
       "      <th></th>\n",
       "      <th>Country</th>\n",
       "      <th>62.5%</th>\n",
       "      <th>TotalRecovered</th>\n",
       "      <th>Serious,Critical</th>\n",
       "      <th>Tot Cases/1M pop</th>\n",
       "      <th>Deaths/1M pop</th>\n",
       "      <th>Tests/\\n1M pop\\n</th>\n",
       "      <th>Population</th>\n",
       "      <th>Active Cases/1M pop</th>\n",
       "    </tr>\n",
       "  </thead>\n",
       "  <tbody>\n",
       "    <tr>\n",
       "      <th>0</th>\n",
       "      <td>China</td>\n",
       "      <td>87.7%</td>\n",
       "      <td>101598</td>\n",
       "      <td>14</td>\n",
       "      <td>75</td>\n",
       "      <td>3</td>\n",
       "      <td>111163</td>\n",
       "      <td>1439323776</td>\n",
       "      <td>1</td>\n",
       "    </tr>\n",
       "    <tr>\n",
       "      <th>1</th>\n",
       "      <td>India</td>\n",
       "      <td>69.2%</td>\n",
       "      <td>42189887</td>\n",
       "      <td>8944</td>\n",
       "      <td>30570</td>\n",
       "      <td>366</td>\n",
       "      <td>543699</td>\n",
       "      <td>1402272769</td>\n",
       "      <td>117</td>\n",
       "    </tr>\n",
       "    <tr>\n",
       "      <th>2</th>\n",
       "      <td>EuropeanUnion</td>\n",
       "      <td>74.9%</td>\n",
       "      <td>NaN</td>\n",
       "      <td>NaN</td>\n",
       "      <td>NaN</td>\n",
       "      <td>NaN</td>\n",
       "      <td>NaN</td>\n",
       "      <td>NaN</td>\n",
       "      <td>NaN</td>\n",
       "    </tr>\n",
       "    <tr>\n",
       "      <th>3</th>\n",
       "      <td>USA</td>\n",
       "      <td>76.2%</td>\n",
       "      <td>52201715</td>\n",
       "      <td>10370</td>\n",
       "      <td>240215</td>\n",
       "      <td>2884</td>\n",
       "      <td>2821246</td>\n",
       "      <td>334188863</td>\n",
       "      <td>81126</td>\n",
       "    </tr>\n",
       "    <tr>\n",
       "      <th>4</th>\n",
       "      <td>Indonesia</td>\n",
       "      <td>68.7%</td>\n",
       "      <td>4632355</td>\n",
       "      <td>2807</td>\n",
       "      <td>19229</td>\n",
       "      <td>528</td>\n",
       "      <td>296546</td>\n",
       "      <td>278270598</td>\n",
       "      <td>2054</td>\n",
       "    </tr>\n",
       "  </tbody>\n",
       "</table>\n",
       "</div>"
      ],
      "text/plain": [
       "         Country  62.5% TotalRecovered Serious,Critical Tot Cases/1M pop  \\\n",
       "0          China  87.7%         101598               14               75   \n",
       "1          India  69.2%       42189887             8944            30570   \n",
       "2  EuropeanUnion  74.9%            NaN              NaN              NaN   \n",
       "3            USA  76.2%       52201715            10370           240215   \n",
       "4      Indonesia  68.7%        4632355             2807            19229   \n",
       "\n",
       "  Deaths/1M pop Tests/\\n1M pop\\n  Population Active Cases/1M pop  \n",
       "0             3           111163  1439323776                   1  \n",
       "1           366           543699  1402272769                 117  \n",
       "2           NaN              NaN         NaN                 NaN  \n",
       "3          2884          2821246   334188863               81126  \n",
       "4           528           296546   278270598                2054  "
      ]
     },
     "execution_count": 86,
     "metadata": {},
     "output_type": "execute_result"
    }
   ],
   "source": [
    "final_df = pd.merge( df2, df3, how=\"left\", on=[\"Country\", \"Country\"])\n",
    "final_df.head()"
   ]
  },
  {
   "cell_type": "code",
   "execution_count": 87,
   "id": "3aa4b90d",
   "metadata": {},
   "outputs": [
    {
     "data": {
      "text/plain": [
       "Country                 0\n",
       "62.5%                   0\n",
       "TotalRecovered         23\n",
       "Serious,Critical       23\n",
       "Tot Cases/1M pop       23\n",
       "Deaths/1M pop          23\n",
       "Tests/\\n1M pop\\n       23\n",
       "Population             23\n",
       "Active Cases/1M pop    23\n",
       "dtype: int64"
      ]
     },
     "execution_count": 87,
     "metadata": {},
     "output_type": "execute_result"
    }
   ],
   "source": [
    "final_df.isnull().sum()"
   ]
  },
  {
   "cell_type": "code",
   "execution_count": null,
   "id": "892eba78",
   "metadata": {},
   "outputs": [],
   "source": []
  },
  {
   "cell_type": "markdown",
   "id": "fd12f646",
   "metadata": {},
   "source": [
    "### we have 23 Countries that didenf fined a mach, we decided to drop them because the colomn of the presentege of vaccenation is more important."
   ]
  },
  {
   "cell_type": "code",
   "execution_count": null,
   "id": "9c3d8cbb",
   "metadata": {
    "scrolled": false
   },
   "outputs": [],
   "source": []
  },
  {
   "cell_type": "code",
   "execution_count": 88,
   "id": "2db9b46b",
   "metadata": {},
   "outputs": [
    {
     "data": {
      "text/plain": [
       "(221, 9)"
      ]
     },
     "execution_count": 88,
     "metadata": {},
     "output_type": "execute_result"
    }
   ],
   "source": [
    "final_df.shape\n"
   ]
  },
  {
   "cell_type": "code",
   "execution_count": 89,
   "id": "35742992",
   "metadata": {},
   "outputs": [
    {
     "data": {
      "text/plain": [
       "Country                0\n",
       "62.5%                  0\n",
       "TotalRecovered         0\n",
       "Serious,Critical       0\n",
       "Tot Cases/1M pop       0\n",
       "Deaths/1M pop          0\n",
       "Tests/\\n1M pop\\n       0\n",
       "Population             0\n",
       "Active Cases/1M pop    0\n",
       "dtype: int64"
      ]
     },
     "execution_count": 89,
     "metadata": {},
     "output_type": "execute_result"
    }
   ],
   "source": [
    "final_df = final_df.dropna()\n",
    "final_df.isnull().sum()"
   ]
  },
  {
   "cell_type": "code",
   "execution_count": 90,
   "id": "7fcd4fe4",
   "metadata": {},
   "outputs": [
    {
     "data": {
      "text/plain": [
       "(198, 9)"
      ]
     },
     "execution_count": 90,
     "metadata": {},
     "output_type": "execute_result"
    }
   ],
   "source": [
    "final_df.shape"
   ]
  },
  {
   "cell_type": "markdown",
   "id": "4a9ce0c7",
   "metadata": {},
   "source": [
    "### chainging the colomn 'Country' to be the leading index"
   ]
  },
  {
   "cell_type": "code",
   "execution_count": 91,
   "id": "7bfa2128",
   "metadata": {},
   "outputs": [
    {
     "data": {
      "text/html": [
       "<div>\n",
       "<style scoped>\n",
       "    .dataframe tbody tr th:only-of-type {\n",
       "        vertical-align: middle;\n",
       "    }\n",
       "\n",
       "    .dataframe tbody tr th {\n",
       "        vertical-align: top;\n",
       "    }\n",
       "\n",
       "    .dataframe thead th {\n",
       "        text-align: right;\n",
       "    }\n",
       "</style>\n",
       "<table border=\"1\" class=\"dataframe\">\n",
       "  <thead>\n",
       "    <tr style=\"text-align: right;\">\n",
       "      <th></th>\n",
       "      <th>62.5%</th>\n",
       "      <th>TotalRecovered</th>\n",
       "      <th>Serious,Critical</th>\n",
       "      <th>Tot Cases/1M pop</th>\n",
       "      <th>Deaths/1M pop</th>\n",
       "      <th>Tests/\\n1M pop\\n</th>\n",
       "      <th>Population</th>\n",
       "      <th>Active Cases/1M pop</th>\n",
       "    </tr>\n",
       "    <tr>\n",
       "      <th>Country</th>\n",
       "      <th></th>\n",
       "      <th></th>\n",
       "      <th></th>\n",
       "      <th></th>\n",
       "      <th></th>\n",
       "      <th></th>\n",
       "      <th></th>\n",
       "      <th></th>\n",
       "    </tr>\n",
       "  </thead>\n",
       "  <tbody>\n",
       "    <tr>\n",
       "      <th>China</th>\n",
       "      <td>87.7%</td>\n",
       "      <td>101598</td>\n",
       "      <td>14</td>\n",
       "      <td>75</td>\n",
       "      <td>3</td>\n",
       "      <td>111163</td>\n",
       "      <td>1439323776</td>\n",
       "      <td>1</td>\n",
       "    </tr>\n",
       "    <tr>\n",
       "      <th>India</th>\n",
       "      <td>69.2%</td>\n",
       "      <td>42189887</td>\n",
       "      <td>8944</td>\n",
       "      <td>30570</td>\n",
       "      <td>366</td>\n",
       "      <td>543699</td>\n",
       "      <td>1402272769</td>\n",
       "      <td>117</td>\n",
       "    </tr>\n",
       "    <tr>\n",
       "      <th>USA</th>\n",
       "      <td>76.2%</td>\n",
       "      <td>52201715</td>\n",
       "      <td>10370</td>\n",
       "      <td>240215</td>\n",
       "      <td>2884</td>\n",
       "      <td>2821246</td>\n",
       "      <td>334188863</td>\n",
       "      <td>81126</td>\n",
       "    </tr>\n",
       "    <tr>\n",
       "      <th>Indonesia</th>\n",
       "      <td>68.7%</td>\n",
       "      <td>4632355</td>\n",
       "      <td>2807</td>\n",
       "      <td>19229</td>\n",
       "      <td>528</td>\n",
       "      <td>296546</td>\n",
       "      <td>278270598</td>\n",
       "      <td>2054</td>\n",
       "    </tr>\n",
       "    <tr>\n",
       "      <th>Brazil</th>\n",
       "      <td>82.5%</td>\n",
       "      <td>25505984</td>\n",
       "      <td>8318</td>\n",
       "      <td>131845</td>\n",
       "      <td>3002</td>\n",
       "      <td>296579</td>\n",
       "      <td>215039621</td>\n",
       "      <td>10232</td>\n",
       "    </tr>\n",
       "  </tbody>\n",
       "</table>\n",
       "</div>"
      ],
      "text/plain": [
       "           62.5% TotalRecovered Serious,Critical Tot Cases/1M pop  \\\n",
       "Country                                                             \n",
       "China      87.7%         101598               14               75   \n",
       "India      69.2%       42189887             8944            30570   \n",
       "USA        76.2%       52201715            10370           240215   \n",
       "Indonesia  68.7%        4632355             2807            19229   \n",
       "Brazil     82.5%       25505984             8318           131845   \n",
       "\n",
       "          Deaths/1M pop Tests/\\n1M pop\\n  Population Active Cases/1M pop  \n",
       "Country                                                                   \n",
       "China                 3           111163  1439323776                   1  \n",
       "India               366           543699  1402272769                 117  \n",
       "USA                2884          2821246   334188863               81126  \n",
       "Indonesia           528           296546   278270598                2054  \n",
       "Brazil             3002           296579   215039621               10232  "
      ]
     },
     "execution_count": 91,
     "metadata": {},
     "output_type": "execute_result"
    }
   ],
   "source": [
    "final_df = final_df.set_index('Country')\n",
    "final_df.head()"
   ]
  },
  {
   "cell_type": "code",
   "execution_count": 92,
   "id": "4921e6b5",
   "metadata": {},
   "outputs": [
    {
     "data": {
      "text/html": [
       "<div>\n",
       "<style scoped>\n",
       "    .dataframe tbody tr th:only-of-type {\n",
       "        vertical-align: middle;\n",
       "    }\n",
       "\n",
       "    .dataframe tbody tr th {\n",
       "        vertical-align: top;\n",
       "    }\n",
       "\n",
       "    .dataframe thead th {\n",
       "        text-align: right;\n",
       "    }\n",
       "</style>\n",
       "<table border=\"1\" class=\"dataframe\">\n",
       "  <thead>\n",
       "    <tr style=\"text-align: right;\">\n",
       "      <th></th>\n",
       "      <th>62.5%</th>\n",
       "      <th>TotalRecovered</th>\n",
       "      <th>Serious,Critical</th>\n",
       "      <th>Tot Cases/1M pop</th>\n",
       "      <th>Deaths/1M pop</th>\n",
       "      <th>Tests/\\n1M pop\\n</th>\n",
       "      <th>Population</th>\n",
       "      <th>Active Cases/1M pop</th>\n",
       "    </tr>\n",
       "    <tr>\n",
       "      <th>Country</th>\n",
       "      <th></th>\n",
       "      <th></th>\n",
       "      <th></th>\n",
       "      <th></th>\n",
       "      <th></th>\n",
       "      <th></th>\n",
       "      <th></th>\n",
       "      <th></th>\n",
       "    </tr>\n",
       "  </thead>\n",
       "  <tbody>\n",
       "    <tr>\n",
       "      <th>Anguilla</th>\n",
       "      <td>67.6</td>\n",
       "      <td>2476</td>\n",
       "      <td>4</td>\n",
       "      <td>164619</td>\n",
       "      <td>591</td>\n",
       "      <td>3375287</td>\n",
       "      <td>15223</td>\n",
       "      <td>1379</td>\n",
       "    </tr>\n",
       "    <tr>\n",
       "      <th>Burundi</th>\n",
       "      <td>0.1</td>\n",
       "      <td>773</td>\n",
       "      <td>NaN</td>\n",
       "      <td>3048</td>\n",
       "      <td>3</td>\n",
       "      <td>27723</td>\n",
       "      <td>12471283</td>\n",
       "      <td>2983</td>\n",
       "    </tr>\n",
       "    <tr>\n",
       "      <th>WallisandFutuna</th>\n",
       "      <td>55.4</td>\n",
       "      <td>438</td>\n",
       "      <td>NaN</td>\n",
       "      <td>41590</td>\n",
       "      <td>641</td>\n",
       "      <td>1878710</td>\n",
       "      <td>10916</td>\n",
       "      <td>824</td>\n",
       "    </tr>\n",
       "    <tr>\n",
       "      <th>FalklandIslands</th>\n",
       "      <td>75.6</td>\n",
       "      <td>NaN</td>\n",
       "      <td>NaN</td>\n",
       "      <td>24410</td>\n",
       "      <td>NaN</td>\n",
       "      <td>2367526</td>\n",
       "      <td>3646</td>\n",
       "      <td>1097</td>\n",
       "    </tr>\n",
       "    <tr>\n",
       "      <th>Montserrat</th>\n",
       "      <td>37.4</td>\n",
       "      <td>161</td>\n",
       "      <td>NaN</td>\n",
       "      <td>32620</td>\n",
       "      <td>400</td>\n",
       "      <td>1560136</td>\n",
       "      <td>4997</td>\n",
       "      <td>NaN</td>\n",
       "    </tr>\n",
       "  </tbody>\n",
       "</table>\n",
       "</div>"
      ],
      "text/plain": [
       "                62.5% TotalRecovered Serious,Critical Tot Cases/1M pop  \\\n",
       "Country                                                                  \n",
       "Anguilla         67.6           2476                4           164619   \n",
       "Burundi           0.1            773              NaN             3048   \n",
       "WallisandFutuna  55.4            438              NaN            41590   \n",
       "FalklandIslands  75.6            NaN              NaN            24410   \n",
       "Montserrat       37.4            161              NaN            32620   \n",
       "\n",
       "                Deaths/1M pop Tests/\\n1M pop\\n Population Active Cases/1M pop  \n",
       "Country                                                                        \n",
       "Anguilla                  591          3375287      15223                1379  \n",
       "Burundi                     3            27723   12471283                2983  \n",
       "WallisandFutuna           641          1878710      10916                 824  \n",
       "FalklandIslands           NaN          2367526       3646                1097  \n",
       "Montserrat                400          1560136       4997                 NaN  "
      ]
     },
     "execution_count": 92,
     "metadata": {},
     "output_type": "execute_result"
    }
   ],
   "source": [
    "final_df = final_df.replace(regex=['%'], value='') \n",
    "final_df = final_df.replace(regex=[''], value=np.nan) # empty valuse\n",
    "final_df = final_df.replace(regex=['N/A'], value=np.nan) # empty valuse\n",
    "final_df = final_df.replace(regex=[' '], value='') # removing spaces\n",
    "final_df.isnull().sum()\n",
    "final_df.tail()\n"
   ]
  },
  {
   "cell_type": "code",
   "execution_count": 93,
   "id": "3d8b6d32",
   "metadata": {},
   "outputs": [
    {
     "name": "stdout",
     "output_type": "stream",
     "text": [
      "<class 'pandas.core.frame.DataFrame'>\n",
      "Index: 198 entries, China to Montserrat\n",
      "Data columns (total 8 columns):\n",
      " #   Column               Non-Null Count  Dtype \n",
      "---  ------               --------------  ----- \n",
      " 0   62.5%                198 non-null    object\n",
      " 1   TotalRecovered       190 non-null    object\n",
      " 2   Serious,Critical     151 non-null    object\n",
      " 3   Tot Cases/1M pop     198 non-null    object\n",
      " 4   Deaths/1M pop        194 non-null    object\n",
      " 5   Tests/\n",
      "1M pop\n",
      "       189 non-null    object\n",
      " 6   Population           198 non-null    object\n",
      " 7   Active Cases/1M pop  197 non-null    object\n",
      "dtypes: object(8)\n",
      "memory usage: 13.9+ KB\n"
     ]
    }
   ],
   "source": [
    "final_df.info()"
   ]
  },
  {
   "cell_type": "code",
   "execution_count": null,
   "id": "b5687967",
   "metadata": {},
   "outputs": [],
   "source": []
  },
  {
   "cell_type": "markdown",
   "id": "b218f73d",
   "metadata": {},
   "source": []
  },
  {
   "cell_type": "code",
   "execution_count": null,
   "id": "e3a19734",
   "metadata": {},
   "outputs": [],
   "source": []
  },
  {
   "cell_type": "code",
   "execution_count": 94,
   "id": "9fb761b9",
   "metadata": {
    "scrolled": true
   },
   "outputs": [
    {
     "data": {
      "text/plain": [
       "62.5%                   0\n",
       "TotalRecovered          8\n",
       "Serious,Critical       47\n",
       "Tot Cases/1M pop        0\n",
       "Deaths/1M pop           4\n",
       "Tests/\\n1M pop\\n        9\n",
       "Population              0\n",
       "Active Cases/1M pop     1\n",
       "dtype: int64"
      ]
     },
     "execution_count": 94,
     "metadata": {},
     "output_type": "execute_result"
    }
   ],
   "source": [
    "final_df.isnull().sum()\n"
   ]
  },
  {
   "cell_type": "markdown",
   "id": "6accf373",
   "metadata": {},
   "source": [
    "### we checked why we have so much empty valuse in the colomn \"Serious,Critical\", so we thought maby thay have no  Serious cases, so we checed online and we found that we were right! - https://www.coronatracker.com/country/georgia/ , https://www.coronatracker.com/country/united-arab-emirates/\n",
    "\n"
   ]
  },
  {
   "cell_type": "code",
   "execution_count": 95,
   "id": "0cbcff4f",
   "metadata": {},
   "outputs": [
    {
     "data": {
      "text/html": [
       "<div>\n",
       "<style scoped>\n",
       "    .dataframe tbody tr th:only-of-type {\n",
       "        vertical-align: middle;\n",
       "    }\n",
       "\n",
       "    .dataframe tbody tr th {\n",
       "        vertical-align: top;\n",
       "    }\n",
       "\n",
       "    .dataframe thead th {\n",
       "        text-align: right;\n",
       "    }\n",
       "</style>\n",
       "<table border=\"1\" class=\"dataframe\">\n",
       "  <thead>\n",
       "    <tr style=\"text-align: right;\">\n",
       "      <th></th>\n",
       "      <th>62.5%</th>\n",
       "      <th>TotalRecovered</th>\n",
       "      <th>Serious,Critical</th>\n",
       "      <th>Tot Cases/1M pop</th>\n",
       "      <th>Deaths/1M pop</th>\n",
       "      <th>Tests/\\n1M pop\\n</th>\n",
       "      <th>Population</th>\n",
       "      <th>Active Cases/1M pop</th>\n",
       "    </tr>\n",
       "    <tr>\n",
       "      <th>Country</th>\n",
       "      <th></th>\n",
       "      <th></th>\n",
       "      <th></th>\n",
       "      <th></th>\n",
       "      <th></th>\n",
       "      <th></th>\n",
       "      <th></th>\n",
       "      <th></th>\n",
       "    </tr>\n",
       "  </thead>\n",
       "  <tbody>\n",
       "    <tr>\n",
       "      <th>Anguilla</th>\n",
       "      <td>67.6</td>\n",
       "      <td>2476</td>\n",
       "      <td>4</td>\n",
       "      <td>164619</td>\n",
       "      <td>591</td>\n",
       "      <td>3375287</td>\n",
       "      <td>15223</td>\n",
       "      <td>1379</td>\n",
       "    </tr>\n",
       "    <tr>\n",
       "      <th>Burundi</th>\n",
       "      <td>0.1</td>\n",
       "      <td>773</td>\n",
       "      <td>0</td>\n",
       "      <td>3048</td>\n",
       "      <td>3</td>\n",
       "      <td>27723</td>\n",
       "      <td>12471283</td>\n",
       "      <td>2983</td>\n",
       "    </tr>\n",
       "    <tr>\n",
       "      <th>WallisandFutuna</th>\n",
       "      <td>55.4</td>\n",
       "      <td>438</td>\n",
       "      <td>0</td>\n",
       "      <td>41590</td>\n",
       "      <td>641</td>\n",
       "      <td>1878710</td>\n",
       "      <td>10916</td>\n",
       "      <td>824</td>\n",
       "    </tr>\n",
       "    <tr>\n",
       "      <th>FalklandIslands</th>\n",
       "      <td>75.6</td>\n",
       "      <td>NaN</td>\n",
       "      <td>0</td>\n",
       "      <td>24410</td>\n",
       "      <td>NaN</td>\n",
       "      <td>2367526</td>\n",
       "      <td>3646</td>\n",
       "      <td>1097</td>\n",
       "    </tr>\n",
       "    <tr>\n",
       "      <th>Montserrat</th>\n",
       "      <td>37.4</td>\n",
       "      <td>161</td>\n",
       "      <td>0</td>\n",
       "      <td>32620</td>\n",
       "      <td>400</td>\n",
       "      <td>1560136</td>\n",
       "      <td>4997</td>\n",
       "      <td>NaN</td>\n",
       "    </tr>\n",
       "  </tbody>\n",
       "</table>\n",
       "</div>"
      ],
      "text/plain": [
       "                62.5% TotalRecovered Serious,Critical Tot Cases/1M pop  \\\n",
       "Country                                                                  \n",
       "Anguilla         67.6           2476                4           164619   \n",
       "Burundi           0.1            773                0             3048   \n",
       "WallisandFutuna  55.4            438                0            41590   \n",
       "FalklandIslands  75.6            NaN                0            24410   \n",
       "Montserrat       37.4            161                0            32620   \n",
       "\n",
       "                Deaths/1M pop Tests/\\n1M pop\\n Population Active Cases/1M pop  \n",
       "Country                                                                        \n",
       "Anguilla                  591          3375287      15223                1379  \n",
       "Burundi                     3            27723   12471283                2983  \n",
       "WallisandFutuna           641          1878710      10916                 824  \n",
       "FalklandIslands           NaN          2367526       3646                1097  \n",
       "Montserrat                400          1560136       4997                 NaN  "
      ]
     },
     "execution_count": 95,
     "metadata": {},
     "output_type": "execute_result"
    }
   ],
   "source": [
    "final_df['Serious,Critical'].fillna('0', inplace = True)\n",
    "final_df.tail()"
   ]
  },
  {
   "cell_type": "code",
   "execution_count": 96,
   "id": "227be601",
   "metadata": {},
   "outputs": [],
   "source": [
    "\n",
    "final_df = final_df.dropna()"
   ]
  },
  {
   "cell_type": "code",
   "execution_count": 97,
   "id": "f3c9466c",
   "metadata": {},
   "outputs": [
    {
     "data": {
      "text/plain": [
       "62.5%                  0\n",
       "TotalRecovered         0\n",
       "Serious,Critical       0\n",
       "Tot Cases/1M pop       0\n",
       "Deaths/1M pop          0\n",
       "Tests/\\n1M pop\\n       0\n",
       "Population             0\n",
       "Active Cases/1M pop    0\n",
       "dtype: int64"
      ]
     },
     "execution_count": 97,
     "metadata": {},
     "output_type": "execute_result"
    }
   ],
   "source": [
    "final_df.isnull().sum()"
   ]
  },
  {
   "cell_type": "code",
   "execution_count": 98,
   "id": "7f8c64ce",
   "metadata": {},
   "outputs": [
    {
     "data": {
      "text/plain": [
       "(182, 8)"
      ]
     },
     "execution_count": 98,
     "metadata": {},
     "output_type": "execute_result"
    }
   ],
   "source": [
    "final_df.shape"
   ]
  },
  {
   "cell_type": "markdown",
   "id": "4ff26399",
   "metadata": {},
   "source": [
    "### custing all colomns to float"
   ]
  },
  {
   "cell_type": "code",
   "execution_count": 99,
   "id": "803be930",
   "metadata": {},
   "outputs": [
    {
     "name": "stdout",
     "output_type": "stream",
     "text": [
      "<class 'pandas.core.frame.DataFrame'>\n",
      "Index: 182 entries, China to WallisandFutuna\n",
      "Data columns (total 8 columns):\n",
      " #   Column               Non-Null Count  Dtype  \n",
      "---  ------               --------------  -----  \n",
      " 0   62.5%                182 non-null    float64\n",
      " 1   TotalRecovered       182 non-null    float64\n",
      " 2   Serious,Critical     182 non-null    float64\n",
      " 3   Tot Cases/1M pop     182 non-null    float64\n",
      " 4   Deaths/1M pop        182 non-null    float64\n",
      " 5   Tests/\n",
      "1M pop\n",
      "       182 non-null    float64\n",
      " 6   Population           182 non-null    float64\n",
      " 7   Active Cases/1M pop  182 non-null    float64\n",
      "dtypes: float64(8)\n",
      "memory usage: 12.8+ KB\n"
     ]
    }
   ],
   "source": [
    "for i in final_df:\n",
    "    final_df[i] = final_df[i].astype(float, errors = 'raise')\n",
    "\n",
    "final_df.info()"
   ]
  },
  {
   "cell_type": "markdown",
   "id": "0607466e",
   "metadata": {},
   "source": [
    "### Normalization per million"
   ]
  },
  {
   "cell_type": "code",
   "execution_count": 100,
   "id": "85c342aa",
   "metadata": {
    "scrolled": true
   },
   "outputs": [
    {
     "data": {
      "text/html": [
       "<div>\n",
       "<style scoped>\n",
       "    .dataframe tbody tr th:only-of-type {\n",
       "        vertical-align: middle;\n",
       "    }\n",
       "\n",
       "    .dataframe tbody tr th {\n",
       "        vertical-align: top;\n",
       "    }\n",
       "\n",
       "    .dataframe thead th {\n",
       "        text-align: right;\n",
       "    }\n",
       "</style>\n",
       "<table border=\"1\" class=\"dataframe\">\n",
       "  <thead>\n",
       "    <tr style=\"text-align: right;\">\n",
       "      <th></th>\n",
       "      <th>62.5%</th>\n",
       "      <th>TotalRecovered1MPop</th>\n",
       "      <th>Critical1MPop</th>\n",
       "      <th>Tot Cases/1M pop</th>\n",
       "      <th>Deaths/1M pop</th>\n",
       "      <th>Tests/\\n1M pop\\n</th>\n",
       "      <th>Population</th>\n",
       "      <th>Active Cases/1M pop</th>\n",
       "    </tr>\n",
       "    <tr>\n",
       "      <th>Country</th>\n",
       "      <th></th>\n",
       "      <th></th>\n",
       "      <th></th>\n",
       "      <th></th>\n",
       "      <th></th>\n",
       "      <th></th>\n",
       "      <th></th>\n",
       "      <th></th>\n",
       "    </tr>\n",
       "  </thead>\n",
       "  <tbody>\n",
       "    <tr>\n",
       "      <th>SanMarino</th>\n",
       "      <td>72.2</td>\n",
       "      <td>13703.0</td>\n",
       "      <td>4.0</td>\n",
       "      <td>417264.0</td>\n",
       "      <td>3289.0</td>\n",
       "      <td>3955240.0</td>\n",
       "      <td>34048.0</td>\n",
       "      <td>11513.0</td>\n",
       "    </tr>\n",
       "    <tr>\n",
       "      <th>CaribbeanNetherlands</th>\n",
       "      <td>72.3</td>\n",
       "      <td>7409.0</td>\n",
       "      <td>0.0</td>\n",
       "      <td>283289.0</td>\n",
       "      <td>1164.0</td>\n",
       "      <td>1131578.0</td>\n",
       "      <td>26623.0</td>\n",
       "      <td>3831.0</td>\n",
       "    </tr>\n",
       "    <tr>\n",
       "      <th>Anguilla</th>\n",
       "      <td>67.6</td>\n",
       "      <td>2476.0</td>\n",
       "      <td>4.0</td>\n",
       "      <td>164619.0</td>\n",
       "      <td>591.0</td>\n",
       "      <td>3375287.0</td>\n",
       "      <td>15223.0</td>\n",
       "      <td>1379.0</td>\n",
       "    </tr>\n",
       "    <tr>\n",
       "      <th>Burundi</th>\n",
       "      <td>0.1</td>\n",
       "      <td>773.0</td>\n",
       "      <td>0.0</td>\n",
       "      <td>3048.0</td>\n",
       "      <td>3.0</td>\n",
       "      <td>27723.0</td>\n",
       "      <td>12471283.0</td>\n",
       "      <td>2983.0</td>\n",
       "    </tr>\n",
       "    <tr>\n",
       "      <th>WallisandFutuna</th>\n",
       "      <td>55.4</td>\n",
       "      <td>438.0</td>\n",
       "      <td>0.0</td>\n",
       "      <td>41590.0</td>\n",
       "      <td>641.0</td>\n",
       "      <td>1878710.0</td>\n",
       "      <td>10916.0</td>\n",
       "      <td>824.0</td>\n",
       "    </tr>\n",
       "  </tbody>\n",
       "</table>\n",
       "</div>"
      ],
      "text/plain": [
       "                      62.5%  TotalRecovered1MPop  Critical1MPop  \\\n",
       "Country                                                           \n",
       "SanMarino              72.2              13703.0            4.0   \n",
       "CaribbeanNetherlands   72.3               7409.0            0.0   \n",
       "Anguilla               67.6               2476.0            4.0   \n",
       "Burundi                 0.1                773.0            0.0   \n",
       "WallisandFutuna        55.4                438.0            0.0   \n",
       "\n",
       "                      Tot Cases/1M pop  Deaths/1M pop  Tests/\\n1M pop\\n  \\\n",
       "Country                                                                   \n",
       "SanMarino                     417264.0         3289.0         3955240.0   \n",
       "CaribbeanNetherlands          283289.0         1164.0         1131578.0   \n",
       "Anguilla                      164619.0          591.0         3375287.0   \n",
       "Burundi                         3048.0            3.0           27723.0   \n",
       "WallisandFutuna                41590.0          641.0         1878710.0   \n",
       "\n",
       "                      Population  Active Cases/1M pop  \n",
       "Country                                                \n",
       "SanMarino                34048.0              11513.0  \n",
       "CaribbeanNetherlands     26623.0               3831.0  \n",
       "Anguilla                 15223.0               1379.0  \n",
       "Burundi               12471283.0               2983.0  \n",
       "WallisandFutuna          10916.0                824.0  "
      ]
     },
     "execution_count": 100,
     "metadata": {},
     "output_type": "execute_result"
    }
   ],
   "source": [
    "for rows in  range (0,145):\n",
    "    final_df['TotalRecovered'][rows] = final_df['TotalRecovered'][rows] / final_df['Population'][rows] * 1000000  \n",
    "    final_df['Serious,Critical'][rows] = final_df['Serious,Critical'][rows] / final_df['Population'][rows] * 1000000    \n",
    "final_df.rename({'TotalRecovered': 'TotalRecovered1MPop','Serious,Critical': 'Critical1MPop' }, axis=1, inplace=True)\n",
    "final_df.tail()"
   ]
  },
  {
   "cell_type": "markdown",
   "id": "00856a14",
   "metadata": {},
   "source": [
    "### editing colomns name"
   ]
  },
  {
   "cell_type": "code",
   "execution_count": 101,
   "id": "40992213",
   "metadata": {},
   "outputs": [
    {
     "data": {
      "text/html": [
       "<div>\n",
       "<style scoped>\n",
       "    .dataframe tbody tr th:only-of-type {\n",
       "        vertical-align: middle;\n",
       "    }\n",
       "\n",
       "    .dataframe tbody tr th {\n",
       "        vertical-align: top;\n",
       "    }\n",
       "\n",
       "    .dataframe thead th {\n",
       "        text-align: right;\n",
       "    }\n",
       "</style>\n",
       "<table border=\"1\" class=\"dataframe\">\n",
       "  <thead>\n",
       "    <tr style=\"text-align: right;\">\n",
       "      <th></th>\n",
       "      <th>vaccenatedPresent</th>\n",
       "      <th>TotalRecovered1MPop</th>\n",
       "      <th>Critical1MPop</th>\n",
       "      <th>TotCases1MPop</th>\n",
       "      <th>Deaths1MPop</th>\n",
       "      <th>Tests1MPop</th>\n",
       "      <th>Population</th>\n",
       "      <th>ActiveCases1MPop</th>\n",
       "    </tr>\n",
       "    <tr>\n",
       "      <th>Country</th>\n",
       "      <th></th>\n",
       "      <th></th>\n",
       "      <th></th>\n",
       "      <th></th>\n",
       "      <th></th>\n",
       "      <th></th>\n",
       "      <th></th>\n",
       "      <th></th>\n",
       "    </tr>\n",
       "  </thead>\n",
       "  <tbody>\n",
       "    <tr>\n",
       "      <th>China</th>\n",
       "      <td>87.7</td>\n",
       "      <td>70.587314</td>\n",
       "      <td>0.009727</td>\n",
       "      <td>75.0</td>\n",
       "      <td>3.0</td>\n",
       "      <td>111163.0</td>\n",
       "      <td>1.439324e+09</td>\n",
       "      <td>1.0</td>\n",
       "    </tr>\n",
       "    <tr>\n",
       "      <th>India</th>\n",
       "      <td>69.2</td>\n",
       "      <td>30086.790482</td>\n",
       "      <td>6.378217</td>\n",
       "      <td>30570.0</td>\n",
       "      <td>366.0</td>\n",
       "      <td>543699.0</td>\n",
       "      <td>1.402273e+09</td>\n",
       "      <td>117.0</td>\n",
       "    </tr>\n",
       "    <tr>\n",
       "      <th>USA</th>\n",
       "      <td>76.2</td>\n",
       "      <td>156204.232934</td>\n",
       "      <td>31.030358</td>\n",
       "      <td>240215.0</td>\n",
       "      <td>2884.0</td>\n",
       "      <td>2821246.0</td>\n",
       "      <td>3.341889e+08</td>\n",
       "      <td>81126.0</td>\n",
       "    </tr>\n",
       "    <tr>\n",
       "      <th>Indonesia</th>\n",
       "      <td>68.7</td>\n",
       "      <td>16646.943778</td>\n",
       "      <td>10.087304</td>\n",
       "      <td>19229.0</td>\n",
       "      <td>528.0</td>\n",
       "      <td>296546.0</td>\n",
       "      <td>2.782706e+08</td>\n",
       "      <td>2054.0</td>\n",
       "    </tr>\n",
       "    <tr>\n",
       "      <th>Brazil</th>\n",
       "      <td>82.5</td>\n",
       "      <td>118610.625713</td>\n",
       "      <td>38.681244</td>\n",
       "      <td>131845.0</td>\n",
       "      <td>3002.0</td>\n",
       "      <td>296579.0</td>\n",
       "      <td>2.150396e+08</td>\n",
       "      <td>10232.0</td>\n",
       "    </tr>\n",
       "  </tbody>\n",
       "</table>\n",
       "</div>"
      ],
      "text/plain": [
       "           vaccenatedPresent  TotalRecovered1MPop  Critical1MPop  \\\n",
       "Country                                                            \n",
       "China                   87.7            70.587314       0.009727   \n",
       "India                   69.2         30086.790482       6.378217   \n",
       "USA                     76.2        156204.232934      31.030358   \n",
       "Indonesia               68.7         16646.943778      10.087304   \n",
       "Brazil                  82.5        118610.625713      38.681244   \n",
       "\n",
       "           TotCases1MPop  Deaths1MPop  Tests1MPop    Population  \\\n",
       "Country                                                           \n",
       "China               75.0          3.0    111163.0  1.439324e+09   \n",
       "India            30570.0        366.0    543699.0  1.402273e+09   \n",
       "USA             240215.0       2884.0   2821246.0  3.341889e+08   \n",
       "Indonesia        19229.0        528.0    296546.0  2.782706e+08   \n",
       "Brazil          131845.0       3002.0    296579.0  2.150396e+08   \n",
       "\n",
       "           ActiveCases1MPop  \n",
       "Country                      \n",
       "China                   1.0  \n",
       "India                 117.0  \n",
       "USA                 81126.0  \n",
       "Indonesia            2054.0  \n",
       "Brazil              10232.0  "
      ]
     },
     "execution_count": 101,
     "metadata": {},
     "output_type": "execute_result"
    }
   ],
   "source": [
    "\n",
    "final_df = final_df.set_axis(['vaccenatedPresent','TotalRecovered1MPop', 'Critical1MPop', 'TotCases1MPop', 'Deaths1MPop', 'Tests1MPop','Population','ActiveCases1MPop'], axis=1, inplace=False)\n",
    "\n",
    "\n",
    "final_df.head()"
   ]
  },
  {
   "cell_type": "code",
   "execution_count": null,
   "id": "66a58ae0",
   "metadata": {},
   "outputs": [],
   "source": []
  },
  {
   "cell_type": "code",
   "execution_count": 102,
   "id": "bf46e4d7",
   "metadata": {},
   "outputs": [
    {
     "data": {
      "text/html": [
       "<div>\n",
       "<style scoped>\n",
       "    .dataframe tbody tr th:only-of-type {\n",
       "        vertical-align: middle;\n",
       "    }\n",
       "\n",
       "    .dataframe tbody tr th {\n",
       "        vertical-align: top;\n",
       "    }\n",
       "\n",
       "    .dataframe thead th {\n",
       "        text-align: right;\n",
       "    }\n",
       "</style>\n",
       "<table border=\"1\" class=\"dataframe\">\n",
       "  <thead>\n",
       "    <tr style=\"text-align: right;\">\n",
       "      <th></th>\n",
       "      <th>vaccenatedPresent</th>\n",
       "      <th>Critical1MPop</th>\n",
       "      <th>TotCases1MPop</th>\n",
       "      <th>Deaths1MPop</th>\n",
       "      <th>Tests1MPop</th>\n",
       "      <th>ActiveCases1MPop</th>\n",
       "    </tr>\n",
       "    <tr>\n",
       "      <th>Country</th>\n",
       "      <th></th>\n",
       "      <th></th>\n",
       "      <th></th>\n",
       "      <th></th>\n",
       "      <th></th>\n",
       "      <th></th>\n",
       "    </tr>\n",
       "  </thead>\n",
       "  <tbody>\n",
       "    <tr>\n",
       "      <th>China</th>\n",
       "      <td>87.7</td>\n",
       "      <td>0.009727</td>\n",
       "      <td>75.0</td>\n",
       "      <td>3.0</td>\n",
       "      <td>111163.0</td>\n",
       "      <td>1.0</td>\n",
       "    </tr>\n",
       "    <tr>\n",
       "      <th>India</th>\n",
       "      <td>69.2</td>\n",
       "      <td>6.378217</td>\n",
       "      <td>30570.0</td>\n",
       "      <td>366.0</td>\n",
       "      <td>543699.0</td>\n",
       "      <td>117.0</td>\n",
       "    </tr>\n",
       "    <tr>\n",
       "      <th>USA</th>\n",
       "      <td>76.2</td>\n",
       "      <td>31.030358</td>\n",
       "      <td>240215.0</td>\n",
       "      <td>2884.0</td>\n",
       "      <td>2821246.0</td>\n",
       "      <td>81126.0</td>\n",
       "    </tr>\n",
       "    <tr>\n",
       "      <th>Indonesia</th>\n",
       "      <td>68.7</td>\n",
       "      <td>10.087304</td>\n",
       "      <td>19229.0</td>\n",
       "      <td>528.0</td>\n",
       "      <td>296546.0</td>\n",
       "      <td>2054.0</td>\n",
       "    </tr>\n",
       "    <tr>\n",
       "      <th>Brazil</th>\n",
       "      <td>82.5</td>\n",
       "      <td>38.681244</td>\n",
       "      <td>131845.0</td>\n",
       "      <td>3002.0</td>\n",
       "      <td>296579.0</td>\n",
       "      <td>10232.0</td>\n",
       "    </tr>\n",
       "  </tbody>\n",
       "</table>\n",
       "</div>"
      ],
      "text/plain": [
       "           vaccenatedPresent  Critical1MPop  TotCases1MPop  Deaths1MPop  \\\n",
       "Country                                                                   \n",
       "China                   87.7       0.009727           75.0          3.0   \n",
       "India                   69.2       6.378217        30570.0        366.0   \n",
       "USA                     76.2      31.030358       240215.0       2884.0   \n",
       "Indonesia               68.7      10.087304        19229.0        528.0   \n",
       "Brazil                  82.5      38.681244       131845.0       3002.0   \n",
       "\n",
       "           Tests1MPop  ActiveCases1MPop  \n",
       "Country                                  \n",
       "China        111163.0               1.0  \n",
       "India        543699.0             117.0  \n",
       "USA         2821246.0           81126.0  \n",
       "Indonesia    296546.0            2054.0  \n",
       "Brazil       296579.0           10232.0  "
      ]
     },
     "execution_count": 102,
     "metadata": {},
     "output_type": "execute_result"
    }
   ],
   "source": [
    "del final_df['TotalRecovered1MPop'] \n",
    "### We later on that this column completes the column that we wanted to predict and we received an accurate model \n",
    "del final_df['Population'] # not hepful\n",
    "final_df.head()"
   ]
  },
  {
   "cell_type": "markdown",
   "id": "914f3310",
   "metadata": {},
   "source": [
    "### lets check outlyers"
   ]
  },
  {
   "cell_type": "code",
   "execution_count": 103,
   "id": "c1fbb2a6",
   "metadata": {},
   "outputs": [
    {
     "data": {
      "text/html": [
       "<div>\n",
       "<style scoped>\n",
       "    .dataframe tbody tr th:only-of-type {\n",
       "        vertical-align: middle;\n",
       "    }\n",
       "\n",
       "    .dataframe tbody tr th {\n",
       "        vertical-align: top;\n",
       "    }\n",
       "\n",
       "    .dataframe thead th {\n",
       "        text-align: right;\n",
       "    }\n",
       "</style>\n",
       "<table border=\"1\" class=\"dataframe\">\n",
       "  <thead>\n",
       "    <tr style=\"text-align: right;\">\n",
       "      <th></th>\n",
       "      <th>vaccenatedPresent</th>\n",
       "      <th>Critical1MPop</th>\n",
       "      <th>TotCases1MPop</th>\n",
       "      <th>Deaths1MPop</th>\n",
       "      <th>Tests1MPop</th>\n",
       "      <th>ActiveCases1MPop</th>\n",
       "    </tr>\n",
       "  </thead>\n",
       "  <tbody>\n",
       "    <tr>\n",
       "      <th>0</th>\n",
       "      <td>0.708165</td>\n",
       "      <td>0.000107</td>\n",
       "      <td>0.000057</td>\n",
       "      <td>0.000000</td>\n",
       "      <td>0.004950</td>\n",
       "      <td>5.091025e-07</td>\n",
       "    </tr>\n",
       "    <tr>\n",
       "      <th>1</th>\n",
       "      <td>0.558610</td>\n",
       "      <td>0.070285</td>\n",
       "      <td>0.062527</td>\n",
       "      <td>0.070719</td>\n",
       "      <td>0.025140</td>\n",
       "      <td>5.910680e-04</td>\n",
       "    </tr>\n",
       "    <tr>\n",
       "      <th>2</th>\n",
       "      <td>0.615198</td>\n",
       "      <td>0.341940</td>\n",
       "      <td>0.491991</td>\n",
       "      <td>0.561270</td>\n",
       "      <td>0.131451</td>\n",
       "      <td>4.130099e-01</td>\n",
       "    </tr>\n",
       "    <tr>\n",
       "      <th>3</th>\n",
       "      <td>0.554568</td>\n",
       "      <td>0.111157</td>\n",
       "      <td>0.039295</td>\n",
       "      <td>0.102279</td>\n",
       "      <td>0.013603</td>\n",
       "      <td>1.045238e-02</td>\n",
       "    </tr>\n",
       "    <tr>\n",
       "      <th>4</th>\n",
       "      <td>0.666128</td>\n",
       "      <td>0.426249</td>\n",
       "      <td>0.269992</td>\n",
       "      <td>0.584259</td>\n",
       "      <td>0.013605</td>\n",
       "      <td>5.208679e-02</td>\n",
       "    </tr>\n",
       "  </tbody>\n",
       "</table>\n",
       "</div>"
      ],
      "text/plain": [
       "   vaccenatedPresent  Critical1MPop  TotCases1MPop  Deaths1MPop  Tests1MPop  \\\n",
       "0           0.708165       0.000107       0.000057     0.000000    0.004950   \n",
       "1           0.558610       0.070285       0.062527     0.070719    0.025140   \n",
       "2           0.615198       0.341940       0.491991     0.561270    0.131451   \n",
       "3           0.554568       0.111157       0.039295     0.102279    0.013603   \n",
       "4           0.666128       0.426249       0.269992     0.584259    0.013605   \n",
       "\n",
       "   ActiveCases1MPop  \n",
       "0      5.091025e-07  \n",
       "1      5.910680e-04  \n",
       "2      4.130099e-01  \n",
       "3      1.045238e-02  \n",
       "4      5.208679e-02  "
      ]
     },
     "execution_count": 103,
     "metadata": {},
     "output_type": "execute_result"
    }
   ],
   "source": [
    "scaler = MinMaxScaler()\n",
    "\n",
    "final_df_scaled = scaler.fit_transform(final_df)\n",
    "\n",
    "final_df_scaled = pd.DataFrame(final_df_scaled)\n",
    "\n",
    "final_df_scaled = final_df_scaled.set_axis(['vaccenatedPresent', 'Critical1MPop', 'TotCases1MPop', 'Deaths1MPop', 'Tests1MPop','ActiveCases1MPop'], axis=1, inplace=False)\n",
    "final_df_scaled.head()"
   ]
  },
  {
   "cell_type": "code",
   "execution_count": 116,
   "id": "800c9259",
   "metadata": {},
   "outputs": [
    {
     "data": {
      "image/png": "[encoded data removed]",
      "text/plain": [
       "<Figure size 1080x576 with 1 Axes>"
      ]
     },
     "metadata": {
      "needs_background": "light"
     },
     "output_type": "display_data"
    }
   ],
   "source": [
    "final_df_no_out = final_df_scaled\n",
    "plt.figure(figsize=(15,8))\n",
    "sns.boxplot(data = final_df_scaled,palette = \"Set2\")\n",
    "plt.xticks(rotation=90)\n",
    "plt.show()"
   ]
  },
  {
   "cell_type": "markdown",
   "id": "b4055490",
   "metadata": {},
   "source": [
    "\n",
    "### we have some  Outliers, lets remove them and tray the modeles again.\n"
   ]
  },
  {
   "cell_type": "code",
   "execution_count": null,
   "id": "b3fe81af",
   "metadata": {},
   "outputs": [],
   "source": []
  },
  {
   "cell_type": "code",
   "execution_count": 117,
   "id": "184d7c54",
   "metadata": {},
   "outputs": [],
   "source": [
    "\n",
    "def removeOutlier(att, df):\n",
    "\n",
    "    lowerbound = att.mean() - 3 * att.std()\n",
    "    upperbound = att.mean() + 3 * att.std()\n",
    "    print('lowerbound: ',lowerbound,' -------- upperbound: ', upperbound )\n",
    "\n",
    "    df1 = df[(att > lowerbound) & (att < upperbound)]\n",
    "\n",
    "    print((df.shape[0] - df1.shape[0]), ' number of outliers from ', df.shape[0] )\n",
    "    print(' ******************************************************\\n')\n",
    "    \n",
    "    df = df1.copy()\n",
    "    return df\n",
    "\n",
    "\n",
    "\n"
   ]
  },
  {
   "cell_type": "code",
   "execution_count": 118,
   "id": "aabf3aaf",
   "metadata": {},
   "outputs": [
    {
     "name": "stdout",
     "output_type": "stream",
     "text": [
      "lowerbound:  -0.22493684393096713  -------- upperbound:  1.0892221140367706\n",
      "0  number of outliers from  182\n",
      " ******************************************************\n",
      "\n",
      "lowerbound:  -0.4223392066293561  -------- upperbound:  0.6990603101189059\n",
      "3  number of outliers from  182\n",
      " ******************************************************\n",
      "\n",
      "lowerbound:  -0.49430338795071416  -------- upperbound:  0.9702911872681939\n",
      "1  number of outliers from  182\n",
      " ******************************************************\n",
      "\n",
      "lowerbound:  -0.450481326914516  -------- upperbound:  0.8827307451370492\n",
      "2  number of outliers from  182\n",
      " ******************************************************\n",
      "\n",
      "lowerbound:  -0.3217928083196947  -------- upperbound:  0.4665748677137468\n",
      "5  number of outliers from  182\n",
      " ******************************************************\n",
      "\n",
      "lowerbound:  -0.4044696272226479  -------- upperbound:  0.569482563936715\n",
      "6  number of outliers from  182\n",
      " ******************************************************\n",
      "\n"
     ]
    }
   ],
   "source": [
    "\n",
    "final_df_no_out = removeOutlier(final_df_scaled.vaccenatedPresent, final_df_scaled)\n",
    "final_df_no_out = removeOutlier(final_df_scaled.Critical1MPop, final_df_scaled)\n",
    "final_df_no_out = removeOutlier(final_df_scaled.TotCases1MPop, final_df_scaled)\n",
    "final_df_no_out = removeOutlier(final_df_scaled.Deaths1MPop, final_df_scaled)\n",
    "final_df_no_out = removeOutlier(final_df_scaled.Tests1MPop, final_df_scaled)\n",
    "final_df_no_out = removeOutlier(final_df_scaled.ActiveCases1MPop, final_df_scaled)"
   ]
  },
  {
   "cell_type": "code",
   "execution_count": 119,
   "id": "67a6ca28",
   "metadata": {},
   "outputs": [],
   "source": [
    "#final_df_scaled = pd.DataFrame(final_df_no_out)\n",
    "\n",
    "#final_df_scaled = final_df_scaled.set_axis(['vaccenatedPresent', 'Critical1MPop', 'TotCases1MPop', 'Deaths1MPop', 'Tests1MPop','Population','ActiveCases1MPop'], axis=1, inplace=False)\n",
    "#final_df_scaled.head()"
   ]
  },
  {
   "cell_type": "code",
   "execution_count": 120,
   "id": "66eb9be8",
   "metadata": {},
   "outputs": [
    {
     "data": {
      "image/png": "[encoded data removed]",
      "text/plain": [
       "<Figure size 1080x576 with 1 Axes>"
      ]
     },
     "metadata": {
      "needs_background": "light"
     },
     "output_type": "display_data"
    }
   ],
   "source": [
    "\n",
    "plt.figure(figsize=(15,8))\n",
    "sns.boxplot(data = final_df_no_out,palette = \"Set2\")\n",
    "plt.xticks(rotation=90)\n",
    "plt.show()"
   ]
  },
  {
   "cell_type": "code",
   "execution_count": 47,
   "id": "375285dc",
   "metadata": {},
   "outputs": [
    {
     "data": {
      "text/plain": [
       "(176, 8)"
      ]
     },
     "execution_count": 47,
     "metadata": {},
     "output_type": "execute_result"
    }
   ],
   "source": [
    "\n",
    "final_df_no_out.shape\n"
   ]
  },
  {
   "cell_type": "code",
   "execution_count": 48,
   "id": "a5b4d043",
   "metadata": {},
   "outputs": [
    {
     "data": {
      "text/plain": [
       "(182, 8)"
      ]
     },
     "execution_count": 48,
     "metadata": {},
     "output_type": "execute_result"
    }
   ],
   "source": [
    "final_df.shape"
   ]
  },
  {
   "cell_type": "code",
   "execution_count": 49,
   "id": "75550f0e",
   "metadata": {},
   "outputs": [],
   "source": [
    "final_df = final_df_no_out"
   ]
  },
  {
   "cell_type": "code",
   "execution_count": 50,
   "id": "2366620b",
   "metadata": {},
   "outputs": [
    {
     "data": {
      "image/png": "[encoded data removed]",
      "text/plain": [
       "<Figure size 1080x1080 with 2 Axes>"
      ]
     },
     "metadata": {
      "needs_background": "light"
     },
     "output_type": "display_data"
    }
   ],
   "source": [
    "import matplotlib.pyplot as plt\n",
    "import seaborn as sns\n",
    "corr = final_df.corr()\n",
    "ax, fig = plt.subplots(figsize=(15,15))\n",
    "sns.heatmap(corr, vmin=-1, cmap='coolwarm', annot=True)\n",
    "plt.show()"
   ]
  },
  {
   "cell_type": "code",
   "execution_count": null,
   "id": "d6cca659",
   "metadata": {},
   "outputs": [],
   "source": []
  },
  {
   "cell_type": "code",
   "execution_count": null,
   "id": "ed8ebdec",
   "metadata": {},
   "outputs": [],
   "source": [
    "\n"
   ]
  },
  {
   "cell_type": "code",
   "execution_count": 51,
   "id": "061bf233",
   "metadata": {
    "scrolled": true
   },
   "outputs": [
    {
     "data": {
      "text/plain": [
       "vaccenatedPresent      0.284060\n",
       "TotalRecovered1MPop    0.574970\n",
       "Critical1MPop          0.475055\n",
       "TotCases1MPop          0.658003\n",
       "Deaths1MPop            1.000000\n",
       "Tests1MPop             0.247249\n",
       "Population            -0.094911\n",
       "ActiveCases1MPop       0.375736\n",
       "Name: Deaths1MPop, dtype: float64"
      ]
     },
     "execution_count": 51,
     "metadata": {},
     "output_type": "execute_result"
    }
   ],
   "source": [
    "corr[abs(corr['Deaths1MPop']) > 0.0]['Deaths1MPop']"
   ]
  },
  {
   "cell_type": "code",
   "execution_count": 52,
   "id": "8064b6f0",
   "metadata": {
    "scrolled": false
   },
   "outputs": [
    {
     "data": {
      "text/plain": [
       "<seaborn.axisgrid.PairGrid at 0x23f8eebf850>"
      ]
     },
     "execution_count": 52,
     "metadata": {},
     "output_type": "execute_result"
    },
    {
     "data": {
      "image/png": "[encoded data removed]",
      "text/plain": [
       "<Figure size 1411.2x504 with 4 Axes>"
      ]
     },
     "metadata": {
      "needs_background": "light"
     },
     "output_type": "display_data"
    }
   ],
   "source": [
    "sns.pairplot(final_df, x_vars=['TotCases1MPop','Critical1MPop','TotalRecovered1MPop','vaccenatedPresent'], y_vars='Deaths1MPop', height=7, aspect=0.7, kind='reg')"
   ]
  },
  {
   "cell_type": "markdown",
   "id": "ffac9dd9",
   "metadata": {},
   "source": []
  },
  {
   "cell_type": "code",
   "execution_count": 53,
   "id": "ffa4d0c9",
   "metadata": {},
   "outputs": [],
   "source": []
  },
  {
   "cell_type": "markdown",
   "id": "c98049f9",
   "metadata": {},
   "source": []
  },
  {
   "cell_type": "markdown",
   "id": "31f36aeb",
   "metadata": {},
   "source": [
    "### train- test split"
   ]
  },
  {
   "cell_type": "code",
   "execution_count": 54,
   "id": "124ba10a",
   "metadata": {},
   "outputs": [],
   "source": [
    "X = final_df.drop(\"Deaths1MPop\", axis=1)\n",
    "y = final_df[\"Deaths1MPop\"]\n",
    "X_train, X_test, y_train, y_test = train_test_split(X, y,test_size=0.2, random_state=1)\n"
   ]
  },
  {
   "cell_type": "markdown",
   "id": "ca01eade",
   "metadata": {},
   "source": [
    "### dummy model"
   ]
  },
  {
   "cell_type": "code",
   "execution_count": 55,
   "id": "052b6041",
   "metadata": {},
   "outputs": [],
   "source": [
    "\n",
    "\n",
    "from sklearn.dummy import DummyRegressor\n",
    "from sklearn.metrics import mean_absolute_error as MAE"
   ]
  },
  {
   "cell_type": "code",
   "execution_count": 56,
   "id": "59a23fcd",
   "metadata": {},
   "outputs": [
    {
     "name": "stdout",
     "output_type": "stream",
     "text": [
      "our dummy model R squared score is -0.081\n",
      "our dummy mean absolute error is 953.\n"
     ]
    }
   ],
   "source": [
    "dum_regr = DummyRegressor(strategy=\"mean\")\n",
    "dum_regr.fit(X_train, y_train)\n",
    "dum_score = dum_regr.score(X_test, y_test)\n",
    "y_predict = dum_regr.predict(X_test)\n",
    "mean_absolute_error = MAE(y_test, y_predict)\n",
    "print('our dummy model R squared score is ' + str(dum_score)[:6])\n",
    "print( \"our dummy mean absolute error is \" + str(mean_absolute_error)[:4])"
   ]
  },
  {
   "cell_type": "code",
   "execution_count": null,
   "id": "7d5c7955",
   "metadata": {},
   "outputs": [],
   "source": []
  },
  {
   "cell_type": "markdown",
   "id": "907043c4",
   "metadata": {},
   "source": [
    "#### R squared = 1, it means that the model is perfect and if its value is 0, it means that the model will perform badly on an unseen dataset. "
   ]
  },
  {
   "cell_type": "markdown",
   "id": "d7200310",
   "metadata": {},
   "source": [
    "## scaling the tada\n",
    "#### we are checking two different scalers to see if one of them is better for our modle"
   ]
  },
  {
   "cell_type": "code",
   "execution_count": null,
   "id": "65b557c2",
   "metadata": {},
   "outputs": [],
   "source": []
  },
  {
   "cell_type": "code",
   "execution_count": 57,
   "id": "0a7cc699",
   "metadata": {},
   "outputs": [],
   "source": [
    "scaler1 = StandardScaler()\n",
    "scaler2 = MinMaxScaler()\n",
    "\n",
    "X_train_scaled1 = scaler1.fit_transform(X_train)\n",
    "X_test_scaled1 = scaler1.fit_transform(X_test)\n",
    "X_train_scaled2 = scaler2.fit_transform(X_train)\n",
    "X_test_scaled2 = scaler2.fit_transform(X_train)"
   ]
  },
  {
   "cell_type": "code",
   "execution_count": null,
   "id": "58cc93c8",
   "metadata": {},
   "outputs": [],
   "source": []
  },
  {
   "cell_type": "markdown",
   "id": "23e297bf",
   "metadata": {},
   "source": []
  },
  {
   "cell_type": "code",
   "execution_count": null,
   "id": "5d5d30e2",
   "metadata": {},
   "outputs": [],
   "source": []
  },
  {
   "cell_type": "markdown",
   "id": "29ad29bc",
   "metadata": {},
   "source": []
  },
  {
   "cell_type": "code",
   "execution_count": null,
   "id": "d196173e",
   "metadata": {},
   "outputs": [],
   "source": []
  },
  {
   "cell_type": "code",
   "execution_count": null,
   "id": "23bed28e",
   "metadata": {},
   "outputs": [],
   "source": []
  },
  {
   "cell_type": "code",
   "execution_count": null,
   "id": "0aad90b3",
   "metadata": {},
   "outputs": [],
   "source": [
    "\n",
    "\n",
    "\n"
   ]
  },
  {
   "cell_type": "code",
   "execution_count": null,
   "id": "c78560b0",
   "metadata": {},
   "outputs": [],
   "source": []
  },
  {
   "cell_type": "code",
   "execution_count": null,
   "id": "93dfd4c7",
   "metadata": {},
   "outputs": [],
   "source": [
    "\n",
    "\n"
   ]
  },
  {
   "cell_type": "markdown",
   "id": "7b629839",
   "metadata": {},
   "source": [
    "### Linear Regression  model"
   ]
  },
  {
   "cell_type": "code",
   "execution_count": 59,
   "id": "9e830ac9",
   "metadata": {},
   "outputs": [],
   "source": [
    "from sklearn.model_selection import cross_val_score\n",
    "from sklearn.model_selection import KFold\n",
    "from sklearn.model_selection import cross_val_predict"
   ]
  },
  {
   "cell_type": "markdown",
   "id": "d463882a",
   "metadata": {},
   "source": []
  },
  {
   "cell_type": "code",
   "execution_count": null,
   "id": "b8f9196b",
   "metadata": {},
   "outputs": [],
   "source": [
    "linreg = LinearRegression()\n",
    "kf = KFold(n_splits=5, random_state=42, shuffle=True)\n",
    "\n",
    "R2_scores_1 = cross_val_score(linreg, X_train_scaled1, y_train, cv=kf)\n",
    "y_predict_1 = cross_val_predict(linreg, X_train_scaled1, y_train, cv=kf)\n",
    "mae_1 = MAE(y_train, y_predict_1)\n",
    "\n",
    "R2_scores_2 = cross_val_score(linreg, X_train_scaled2, y_train, cv=kf)\n",
    "y_predict_2 = cross_val_predict(linreg, X_train_scaled2, y_train, cv=kf)\n",
    "mae_2 = MAE(y_train, y_predict_2)\n",
    "\n",
    "print(\"result for StandardScaler:\")\n",
    "print(\"R2 score:\" +(str)(R2_scores_1.mean()))\n",
    "print(\"MAE score:\" +(str)(mae_1))\n",
    "print(\"result for MinMaxScaler:\")\n",
    "print(\"R2 score:\" +(str)(R2_scores_2.mean()))\n",
    "print(\"MAE score:\" +(str)(mae_2))\n",
    "\n"
   ]
  },
  {
   "cell_type": "code",
   "execution_count": null,
   "id": "920cf2a3",
   "metadata": {},
   "outputs": [],
   "source": [
    "\n",
    "fig, axes = plt.subplots(1,2)\n",
    "((ax1, ax2)) = axes\n",
    "\n",
    "y_predicted = cross_val_predict(linreg, X_train_scaled1, y_train, cv=kf)\n",
    "ax1.scatter(y_train, y_predicted, alpha=0.3, color='purple')\n",
    "ax1.plot([y_train.min(), y_train.max()], [y_train.min(), y_train.max()], 'k--', lw=4)\n",
    "ax1.set_xlabel('Actual')\n",
    "ax1.set_ylabel('Predicted')\n",
    "ax1.set_title('standardized:')\n",
    "\n",
    "y_predicted = cross_val_predict(linreg, X_train_scaled2, y_train, cv=kf)\n",
    "ax2.scatter(y_train, y_predicted, alpha=0.3, color='turquoise')\n",
    "ax2.plot([y_train.min(), y_train.max()], [y_train.min(), y_train.max()], 'k--', lw=4)\n",
    "ax2.set_xlabel('Actual')\n",
    "ax2.set_ylabel('Predicted')\n",
    "ax2.set_title('normalized:')\n",
    "\n",
    "plt.show()"
   ]
  },
  {
   "cell_type": "code",
   "execution_count": null,
   "id": "33600159",
   "metadata": {},
   "outputs": [],
   "source": [
    "from pprint import pprint\n",
    "print('Parameters currently in use:\\n')\n",
    "pprint(linreg.get_params())"
   ]
  },
  {
   "cell_type": "markdown",
   "id": "2f071ee0",
   "metadata": {},
   "source": [
    "### as we can see there are no hyperprameters (numbers) to make the model as optimal as it couled be"
   ]
  },
  {
   "cell_type": "markdown",
   "id": "722a69e1",
   "metadata": {},
   "source": [
    "### feature selection:\n"
   ]
  },
  {
   "cell_type": "code",
   "execution_count": null,
   "id": "6569deb3",
   "metadata": {},
   "outputs": [],
   "source": [
    "# I will use this function for make a copy of\n",
    "# train set by specific correlation limit.\n",
    "\n",
    "# copy X with columns which grater than specific limit:\n",
    "def copy_by_corr_limit(X, lim, limits):\n",
    "    X_copy = X.copy()\n",
    "    X_copy = pd.DataFrame(X_copy)\n",
    "    for l in limits.corr:\n",
    "        if (l < lim):\n",
    "            X_copy.drop(l, inplace=True)\n",
    "    return X_copy"
   ]
  },
  {
   "cell_type": "code",
   "execution_count": null,
   "id": "7ef949b1",
   "metadata": {},
   "outputs": [],
   "source": [
    "\n",
    "print('correlations (without the sign+-):')\n",
    "correlations = abs(corr['Deaths1MPop']).sort_values(ascending=False)\n",
    "correlations.drop('Deaths1MPop', inplace=True)\n",
    "#correlations = pd.DataFrame(correlations)\n",
    "#correlations.rename({'Deaths1MPop': 'corr'}, axis=1, inplace=True)\n",
    "\n",
    "correlations"
   ]
  },
  {
   "cell_type": "code",
   "execution_count": null,
   "id": "d97a1079",
   "metadata": {},
   "outputs": [],
   "source": [
    "corr_limits = [0, 0.03, 0.09, 0.25, 0.35, 0.40, 0.55, 0.552, 0.555, 0.9]\n",
    "\n",
    "mean_scores = []\n",
    "std_scores = []\n",
    "mae_scores = []\n",
    "\n",
    "\n",
    "#for limit in corr_limits:\n",
    "   # X_train_copy = copy_by_corr_limit(X_train_scaled1, limit, correlations)\n",
    "   # R2_scores = cross_val_score(linreg, X_train_copy, y_train, cv=kf)\n",
    "    #y_predict = cross_val_predict(linreg, X_train_copy, y_train, cv=kf)\n",
    "    #mae_score = MAE(y_train, y_predict)\n",
    " \n",
    "   # mean_scores.append(R2_scores.mean())\n",
    "   # std_scores.append(R2_scores.std())\n",
    "   # mae_scores.append(mae_score)\n",
    "    \n",
    "#pd.DataFrame(data={'lim correlation:':corr_limits, 'R2_score': mean_scores, 'R2_std': std_scores, 'MAE score': mae_scores})"
   ]
  },
  {
   "cell_type": "markdown",
   "id": "84a360f9",
   "metadata": {},
   "source": [
    "### Random Forest Regressor Modle"
   ]
  },
  {
   "cell_type": "code",
   "execution_count": null,
   "id": "3666674e",
   "metadata": {},
   "outputs": [],
   "source": [
    "from sklearn.ensemble import RandomForestRegressor"
   ]
  },
  {
   "cell_type": "code",
   "execution_count": null,
   "id": "8ca975a9",
   "metadata": {},
   "outputs": [],
   "source": [
    "RFR = RandomForestRegressor()"
   ]
  },
  {
   "cell_type": "code",
   "execution_count": null,
   "id": "5e3ac2f9",
   "metadata": {},
   "outputs": [],
   "source": []
  },
  {
   "cell_type": "code",
   "execution_count": null,
   "id": "bcc7795e",
   "metadata": {},
   "outputs": [],
   "source": [
    "kf = KFold(n_splits=5, random_state=42, shuffle=True)\n",
    "\n",
    "R2_scores_standardized = cross_val_score(RFR, X_train_scaled1, y_train, cv=kf)\n",
    "y_predict_standardized = cross_val_predict(RFR, X_train_scaled1, y_train, cv=kf)\n",
    "mae_standarsized = MAE(y_train, y_predict_standardized)\n",
    "print(\"result for StandardScaler:\")\n",
    "print(\"R2 score:\" +(str)(R2_scores_standardized.mean()))\n",
    "print(\"MAE score:\" +(str)(mae_standarsized))"
   ]
  },
  {
   "cell_type": "code",
   "execution_count": null,
   "id": "cd6f35b7",
   "metadata": {},
   "outputs": [],
   "source": []
  },
  {
   "cell_type": "code",
   "execution_count": null,
   "id": "fbbb10ef",
   "metadata": {},
   "outputs": [],
   "source": [
    "from sklearn.model_selection import GridSearchCV"
   ]
  },
  {
   "cell_type": "code",
   "execution_count": null,
   "id": "b3d399f0",
   "metadata": {},
   "outputs": [],
   "source": [
    "k_range = list(range(1, 31))\n",
    "\n",
    "# create a parameter grid: map the parameter names to the values that should be searched\n",
    "param_grid = dict(n_neighbors=k_range)\n",
    "print(param_grid)"
   ]
  },
  {
   "cell_type": "code",
   "execution_count": null,
   "id": "1c3311f2",
   "metadata": {},
   "outputs": [],
   "source": [
    "from pprint import pprint\n",
    "# Look at parameters used by our current forest\n",
    "print('Parameters currently in use:\\n')\n",
    "pprint(RFR.get_params())"
   ]
  },
  {
   "cell_type": "markdown",
   "id": "ae0dd092",
   "metadata": {},
   "source": [
    "#### n_estimators = number of trees in the foreset\n",
    "####  max_features = max number of features considered for splitting a node\n",
    "#### max_depth = max number of levels in each decision tree\n",
    "#### min_samples_split = min number of data points placed in a node before the node is split\n",
    "#### min_samples_leaf = min number of data points allowed in a leaf node\n",
    "#### bootstrap = method for sampling data points (with or without replacement)"
   ]
  },
  {
   "cell_type": "code",
   "execution_count": null,
   "id": "936ed8c8",
   "metadata": {},
   "outputs": [],
   "source": []
  },
  {
   "cell_type": "code",
   "execution_count": null,
   "id": "63d17fb8",
   "metadata": {},
   "outputs": [],
   "source": [
    "from sklearn.model_selection import RandomizedSearchCV\n",
    "\n",
    "# Number of trees in random forest\n",
    "n_estimators = [int(x) for x in np.linspace(start = 200, stop = 2000, num = 10)]\n",
    "# Number of features to consider at every split\n",
    "max_features = ['auto', 'sqrt']\n",
    "# Maximum number of levels in tree\n",
    "max_depth = [int(x) for x in np.linspace(10, 110, num = 11)]\n",
    "max_depth.append(None)\n",
    "# Minimum number of samples required to split a node\n",
    "min_samples_split = [2, 5, 10]\n",
    "# Minimum number of samples required at each leaf node\n",
    "min_samples_leaf = [1, 2, 4]\n",
    "# Method of selecting samples for training each tree\n",
    "bootstrap = [True, False]\n",
    "# Create the random grid\n",
    "random_grid = {'n_estimators': n_estimators,\n",
    "               'max_features': max_features,\n",
    "               'max_depth': max_depth,\n",
    "               'min_samples_split': min_samples_split,\n",
    "               'min_samples_leaf': min_samples_leaf,\n",
    "               'bootstrap': bootstrap}\n",
    "\n"
   ]
  },
  {
   "cell_type": "code",
   "execution_count": null,
   "id": "31063253",
   "metadata": {},
   "outputs": [],
   "source": [
    "# search across 100 different combinations\n",
    "rf_random = RandomizedSearchCV(estimator = RFR, param_distributions = random_grid, n_iter = 100, cv = kf, verbose=2, random_state=42, n_jobs = -1, scoring='r2')\n",
    "# Fit the random search model\n",
    "rf_random.fit(X_train_scaled1, y_train)"
   ]
  },
  {
   "cell_type": "code",
   "execution_count": null,
   "id": "659d7b56",
   "metadata": {},
   "outputs": [],
   "source": [
    "print(\"best R2 score is:\")\n",
    "print(rf_random.best_score_)"
   ]
  },
  {
   "cell_type": "markdown",
   "id": "790fc0a4",
   "metadata": {},
   "source": [
    "### more data"
   ]
  },
  {
   "cell_type": "code",
   "execution_count": null,
   "id": "4498cfaf",
   "metadata": {},
   "outputs": [],
   "source": [
    "df4 = pd.read_csv(\"C:\\\\Users\\\\abiis\\\\OneDrive\\\\שולחן העבודה\\\\מדעי הנתונים\\\\hospitals_bed_per_1000.csv\",skiprows=3)\n",
    "\n",
    "df4.head()"
   ]
  },
  {
   "cell_type": "code",
   "execution_count": null,
   "id": "a9f3cd87",
   "metadata": {},
   "outputs": [],
   "source": [
    "df5 = pd.read_csv(\"C:\\\\Users\\\\abiis\\\\OneDrive\\\\שולחן העבודה\\\\מדעי הנתונים\\\\Physicians_per_1000_ppl.csv\",skiprows=3)\n",
    "\n",
    "df5.head()"
   ]
  },
  {
   "cell_type": "code",
   "execution_count": null,
   "id": "a158c585",
   "metadata": {},
   "outputs": [],
   "source": [
    "del df4['Country Code']\n",
    "del df4['Indicator Name']\n",
    "del df4['Indicator Code']\n",
    "df4.head()"
   ]
  },
  {
   "cell_type": "code",
   "execution_count": null,
   "id": "e32c9452",
   "metadata": {},
   "outputs": [],
   "source": [
    "del df5['Country Code']\n",
    "del df5['Indicator Name']\n",
    "del df5['Indicator Code']\n",
    "df5.head()"
   ]
  },
  {
   "cell_type": "code",
   "execution_count": null,
   "id": "bdf18ffa",
   "metadata": {},
   "outputs": [],
   "source": [
    "\n",
    "df4.rename({'Unnamed: 65': 'Hospital_beds'}, axis=1, inplace=True)\n",
    "df4.rename({'Country Name': 'Country'}, axis=1, inplace=True)\n",
    "df4.head()"
   ]
  },
  {
   "cell_type": "code",
   "execution_count": null,
   "id": "63176517",
   "metadata": {},
   "outputs": [],
   "source": [
    "df5.rename({'Unnamed: 65': 'Physicians'}, axis=1, inplace=True)\n",
    "df5.rename({'Country Name': 'Country'}, axis=1, inplace=True)\n",
    "df5.head()"
   ]
  },
  {
   "cell_type": "code",
   "execution_count": null,
   "id": "f75ea4dd",
   "metadata": {},
   "outputs": [],
   "source": []
  },
  {
   "cell_type": "code",
   "execution_count": null,
   "id": "11a22593",
   "metadata": {},
   "outputs": [],
   "source": []
  },
  {
   "cell_type": "code",
   "execution_count": null,
   "id": "5be2ddef",
   "metadata": {},
   "outputs": [],
   "source": [
    "df4 = df4.replace(regex=[' '], value='')\n",
    "df5 = df5.replace(regex=[' '], value='')\n",
    "df5.head()"
   ]
  },
  {
   "cell_type": "code",
   "execution_count": null,
   "id": "aef98d8d",
   "metadata": {},
   "outputs": [],
   "source": [
    "df4['Country'] = df4['Country'].replace(['UnitedStates'],'USA')\n",
    "df5['Country'] = df5['Country'].replace(['UnitedStates'],'USA')"
   ]
  },
  {
   "cell_type": "code",
   "execution_count": null,
   "id": "9b4e9842",
   "metadata": {},
   "outputs": [],
   "source": [
    "\n",
    "df4 = df4.set_index('Country')\n",
    "df5 = df5.set_index('Country')\n"
   ]
  },
  {
   "cell_type": "code",
   "execution_count": null,
   "id": "bae064cf",
   "metadata": {},
   "outputs": [],
   "source": []
  },
  {
   "cell_type": "code",
   "execution_count": null,
   "id": "3bc0580d",
   "metadata": {},
   "outputs": [],
   "source": [
    "\n",
    "\n",
    "for column in df4:\n",
    "    df4[column] = df4[column].astype(float, errors = 'raise')\n",
    "df4.info()"
   ]
  },
  {
   "cell_type": "code",
   "execution_count": null,
   "id": "1be8fac2",
   "metadata": {},
   "outputs": [],
   "source": [
    "for column in df5:\n",
    "    df5[column] = df5[column].astype(float, errors = 'raise')\n",
    "df5.info()"
   ]
  },
  {
   "cell_type": "code",
   "execution_count": null,
   "id": "261ebba3",
   "metadata": {},
   "outputs": [],
   "source": [
    "for rows in range(0,227):\n",
    "    for column in df4:\n",
    "        if df4[column][rows] > 0:\n",
    "            df4['Hospital_beds'][rows] = df4[column][rows]\n",
    "            \n",
    "for rows in range(0,227):\n",
    "    for column in df5:\n",
    "        if df5[column][rows] > 0:\n",
    "            df5['Physicians'][rows] = df5[column][rows]\n",
    "            \n",
    "df4.head(15)"
   ]
  },
  {
   "cell_type": "code",
   "execution_count": null,
   "id": "a8b388e3",
   "metadata": {},
   "outputs": [],
   "source": [
    "for column in df4:\n",
    "    if column != 'Hospital_beds':\n",
    "        del df4[column]\n",
    "df4.head()"
   ]
  },
  {
   "cell_type": "code",
   "execution_count": null,
   "id": "acbd0e3e",
   "metadata": {},
   "outputs": [],
   "source": [
    "for column in df5:\n",
    "    if column != 'Physicians':\n",
    "        del df5[column]\n",
    "df5.head()"
   ]
  },
  {
   "cell_type": "code",
   "execution_count": null,
   "id": "65cfca6e",
   "metadata": {},
   "outputs": [],
   "source": [
    "df4.isnull().sum()\n"
   ]
  },
  {
   "cell_type": "code",
   "execution_count": null,
   "id": "03d4f2dd",
   "metadata": {},
   "outputs": [],
   "source": [
    "\n",
    "df5.isnull().sum()\n"
   ]
  },
  {
   "cell_type": "code",
   "execution_count": null,
   "id": "ce57fc61",
   "metadata": {},
   "outputs": [],
   "source": [
    "\n",
    "df4 = df4.dropna()\n",
    "df4.head()\n",
    "\n"
   ]
  },
  {
   "cell_type": "code",
   "execution_count": null,
   "id": "8d94adb1",
   "metadata": {},
   "outputs": [],
   "source": [
    "df5 = df5.dropna()\n",
    "df5.head()"
   ]
  },
  {
   "cell_type": "code",
   "execution_count": null,
   "id": "ab4fff96",
   "metadata": {},
   "outputs": [],
   "source": [
    "df4 = df4.replace(regex=[' '], value='')\n",
    "df5 = df5.replace(regex=[' '], value='')"
   ]
  },
  {
   "cell_type": "code",
   "execution_count": null,
   "id": "4d451217",
   "metadata": {},
   "outputs": [],
   "source": [
    "\n",
    "\n",
    "df45= pd.merge(df5, df4, how=\"left\", on=\"Country\")\n",
    "\n"
   ]
  },
  {
   "cell_type": "code",
   "execution_count": null,
   "id": "bc913e8e",
   "metadata": {},
   "outputs": [],
   "source": [
    "df45.head()"
   ]
  },
  {
   "cell_type": "code",
   "execution_count": null,
   "id": "d2580796",
   "metadata": {},
   "outputs": [],
   "source": [
    "df45.info()"
   ]
  },
  {
   "cell_type": "code",
   "execution_count": null,
   "id": "c5c571b5",
   "metadata": {},
   "outputs": [],
   "source": [
    "df45 = df45.dropna()\n",
    "df45.info()\n"
   ]
  },
  {
   "cell_type": "code",
   "execution_count": null,
   "id": "dc5941e3",
   "metadata": {},
   "outputs": [],
   "source": []
  },
  {
   "cell_type": "code",
   "execution_count": null,
   "id": "dd52c26b",
   "metadata": {},
   "outputs": [],
   "source": [
    "\n",
    "final_df2 = pd.merge(final_df, df4, how=\"left\", on=\"Country\")\n",
    "final_df2.head()\n",
    "\n"
   ]
  },
  {
   "cell_type": "code",
   "execution_count": null,
   "id": "a8841815",
   "metadata": {},
   "outputs": [],
   "source": [
    "final_df2.info()"
   ]
  },
  {
   "cell_type": "code",
   "execution_count": null,
   "id": "07c0aa66",
   "metadata": {},
   "outputs": [],
   "source": [
    "final_df2.head()"
   ]
  },
  {
   "cell_type": "code",
   "execution_count": null,
   "id": "0ee0ae82",
   "metadata": {},
   "outputs": [],
   "source": [
    "final_df2 = final_df2.dropna()\n",
    "final_df2.shape\n"
   ]
  },
  {
   "cell_type": "code",
   "execution_count": null,
   "id": "607beda0",
   "metadata": {},
   "outputs": [],
   "source": [
    "final_df2.info()"
   ]
  },
  {
   "cell_type": "markdown",
   "id": "325be080",
   "metadata": {},
   "source": [
    "### train_test_split"
   ]
  },
  {
   "cell_type": "code",
   "execution_count": null,
   "id": "53d072a9",
   "metadata": {},
   "outputs": [],
   "source": [
    "X = final_df2.drop(\"Deaths1MPop\", axis=1)\n",
    "y = final_df2[\"Deaths1MPop\"]\n",
    "X_train, X_test, y_train, y_test = train_test_split(X, y,test_size=0.2, random_state=1)\n"
   ]
  },
  {
   "cell_type": "code",
   "execution_count": null,
   "id": "6f564ea8",
   "metadata": {},
   "outputs": [],
   "source": [
    "\n",
    "\n",
    "from sklearn.dummy import DummyRegressor\n",
    "from sklearn.metrics import mean_absolute_error as MAE\n"
   ]
  },
  {
   "cell_type": "code",
   "execution_count": null,
   "id": "f45adeed",
   "metadata": {},
   "outputs": [],
   "source": [
    "\n",
    "dum_regr = DummyRegressor(strategy=\"mean\")\n",
    "dum_regr.fit(X_train, y_train)\n",
    "dum_score = dum_regr.score(X_test, y_test)\n",
    "y_predict = dum_regr.predict(X_test)\n",
    "mean_absolute_error = MAE(y_test, y_predict)\n",
    "print('our dummy model R squared score is ' + str(dum_score)[:6])\n",
    "print( \"our dummy mean absolute error is \" + str(mean_absolute_error)[:4])"
   ]
  },
  {
   "cell_type": "code",
   "execution_count": null,
   "id": "5707af19",
   "metadata": {},
   "outputs": [],
   "source": [
    "scaler1 = StandardScaler()\n",
    "scaler2 = MinMaxScaler()\n",
    "\n",
    "X_train_scaled1 = scaler1.fit_transform(X_train)\n",
    "X_test_scaled1 = scaler1.fit_transform(X_test)\n",
    "X_train_scaled2 = scaler2.fit_transform(X_train)\n",
    "X_test_scaled2 = scaler2.fit_transform(X_train)\n"
   ]
  },
  {
   "cell_type": "code",
   "execution_count": null,
   "id": "5def0179",
   "metadata": {},
   "outputs": [],
   "source": [
    "linreg = LinearRegression()\n",
    "kf = KFold(n_splits=5, random_state=42, shuffle=True)\n",
    "\n",
    "R2_scores_1 = cross_val_score(linreg, X_train_scaled1, y_train, cv=kf)\n",
    "y_predict_1 = cross_val_predict(linreg, X_train_scaled1, y_train, cv=kf)\n",
    "mae_1 = MAE(y_train, y_predict_1)\n",
    "\n",
    "R2_scores_2 = cross_val_score(linreg, X_train_scaled2, y_train, cv=kf)\n",
    "y_predict_2 = cross_val_predict(linreg, X_train_scaled2, y_train, cv=kf)\n",
    "mae_2 = MAE(y_train, y_predict_2)\n",
    "\n",
    "print(\"result for StandardScaler:\")\n",
    "print(\"R2 score:\" +(str)(R2_scores_1.mean()))\n",
    "print(\"MAE score:\" +(str)(mae_1))\n",
    "print(\"result for MinMaxScaler:\")\n",
    "print(\"R2 score:\" +(str)(R2_scores_2.mean()))\n",
    "print(\"MAE score:\" +(str)(mae_2))\n",
    "\n"
   ]
  },
  {
   "cell_type": "code",
   "execution_count": null,
   "id": "fb3e2c5e",
   "metadata": {},
   "outputs": [],
   "source": [
    "\n",
    "fig, axes = plt.subplots(1,2)\n",
    "((ax1, ax2)) = axes\n",
    "\n",
    "y_predicted = cross_val_predict(linreg, X_train_scaled1, y_train, cv=kf)\n",
    "ax1.scatter(y_train, y_predicted, alpha=0.3, color='purple')\n",
    "ax1.plot([y_train.min(), y_train.max()], [y_train.min(), y_train.max()], 'k--', lw=4)\n",
    "ax1.set_xlabel('Actual')\n",
    "ax1.set_ylabel('Predicted')\n",
    "ax1.set_title('standardized:')\n",
    "\n",
    "y_predicted = cross_val_predict(linreg, X_train_scaled2, y_train, cv=kf)\n",
    "ax2.scatter(y_train, y_predicted, alpha=0.3, color='turquoise')\n",
    "ax2.plot([y_train.min(), y_train.max()], [y_train.min(), y_train.max()], 'k--', lw=4)\n",
    "ax2.set_xlabel('Actual')\n",
    "ax2.set_ylabel('Predicted')\n",
    "ax2.set_title('normalized:')\n",
    "\n",
    "plt.show()"
   ]
  },
  {
   "cell_type": "code",
   "execution_count": null,
   "id": "1cd2f604",
   "metadata": {},
   "outputs": [],
   "source": [
    "kf = KFold(n_splits=5, random_state=42, shuffle=True)\n",
    "\n",
    "R2_scores_standardized = cross_val_score(RFR, X_train_scaled1, y_train, cv=kf)\n",
    "y_predict_standardized = cross_val_predict(RFR, X_train_scaled1, y_train, cv=kf)\n",
    "mae_standarsized = MAE(y_train, y_predict_standardized)\n",
    "print(\"result for StandardScaler:\")\n",
    "print(\"R2 score:\" +(str)(R2_scores_standardized.mean()))\n",
    "print(\"MAE score:\" +(str)(mae_standarsized))\n"
   ]
  },
  {
   "cell_type": "code",
   "execution_count": null,
   "id": "33abb2a4",
   "metadata": {},
   "outputs": [],
   "source": [
    "corr = final_df2.corr()\n",
    "ax, fig = plt.subplots(figsize=(15,15))\n",
    "sns.heatmap(corr, vmin=-1, cmap='coolwarm', annot=True)\n",
    "plt.show()\n",
    "\n"
   ]
  },
  {
   "cell_type": "code",
   "execution_count": null,
   "id": "9144c4ba",
   "metadata": {},
   "outputs": [],
   "source": [
    "corr[abs(corr['Deaths1MPop']) > 0.0]['Deaths1MPop']"
   ]
  },
  {
   "cell_type": "code",
   "execution_count": null,
   "id": "a3d919f6",
   "metadata": {},
   "outputs": [],
   "source": [
    "print ('toda omer!')"
   ]
  },
  {
   "cell_type": "code",
   "execution_count": null,
   "id": "dd008c5a",
   "metadata": {},
   "outputs": [],
   "source": []
  }
 ],
 "metadata": {
  "kernelspec": {
   "display_name": "Python 3",
   "language": "python",
   "name": "python3"
  },
  "language_info": {
   "codemirror_mode": {
    "name": "ipython",
    "version": 3
   },
   "file_extension": ".py",
   "mimetype": "text/x-python",
   "name": "python",
   "nbconvert_exporter": "python",
   "pygments_lexer": "ipython3",
   "version": "3.8.8"
  }
 },
 "nbformat": 4,
 "nbformat_minor": 5
}
